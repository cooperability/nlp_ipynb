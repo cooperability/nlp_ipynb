{
 "cells": [
  {
   "cell_type": "code",
   "execution_count": 2,
   "id": "2d3db5b8",
   "metadata": {},
   "outputs": [],
   "source": [
    "\"\"\"\n",
    "ML automates analytical model building; obviates some explicit programming in data analysis\n",
    "USES: Fraud detection, spam detection, network intrusion detection,\n",
    "search result indexing, real-time ads, credit scoring, predicting equipment\n",
    "failure, recommendation engines and pricing models, customer segmentation, sentiment analysis,\n",
    "predicting customer churn, pattern & image recognition\n",
    "\n",
    "-Supervised learning is trained using LABELED examples\n",
    "-Algorithms learn using comparison between their output and actual expected correct outputs\n",
    "-SL commonly used where historical information can predict likely future events\n",
    "\n",
    "Supervised learning process:\n",
    "1. DATA ACQUISITION -> \n",
    "2. DATA CLEANING/FORMATTING -> includes vectorization in NLP's case\n",
    "   a. Each data should have a Y-label based on its X-features. \n",
    "   b. The Y-labels for test data are used to evaluate the model's effectiveness/predictiveness\n",
    "3. DATA SEPARATION into train/test -> Training data is usually, ideally, about 70% of your data\n",
    "   a. 4 data components after split: Y-test, X-test, Y-train and X-train\n",
    "4. MODEL FITTING to training data -> Training data are often manually labeled\n",
    "   a. separate True condition from Predicted condition of each data\n",
    "   b. true/false positive/negative outputs are mapped in a CONFUSION MATRIX\n",
    "   c. Type1 Error is false positive; type2 error is false negative\n",
    "5. MODEL EVALUATION along 4 key metrics -> \n",
    "   a. ACCURACY - number of correct predictions, divided by total number of predictions\n",
    "      1. useful when target classes are well-balanced, not useful with unbalanced classes\n",
    "      2. a skewed dataset can generate >50% accuracy if all data are classified the same\n",
    "   b. RECALL = true positives / (true positives + false negatives)\n",
    "      1. evaluates model's ability to find ALL relevant cases in dataset\n",
    "   c. PRECISION = true positives / (true positives + false positives)\n",
    "      1. evaluates model's ability to find ONLY relevant cases in dataset\n",
    "   d. F1-SCORE - harmonic mean of precision + recall; neutralizes tradeoff between\n",
    "      1. F1 = 2*((precision * recall) / (precision + recall))\n",
    "      2. harmonic mean is superior to average because it punishes extreme values;\n",
    "      3. classifier with precision 1.0 and recall 0.0 has an F1 score of 0.\n",
    "6. IMPROVE TEST/TRAIN Loop -> \n",
    "7. deploy model\n",
    "\n",
    "Here we're using Python's most popular ML library, scikit-learn\n",
    "Every algo is exposed in scikit learn via an \"Estimator\" which can set parameters\n",
    "format: `from sklearn.[family] import Model\n",
    "e.g.: `from sklearn.linear_model import LinearRegression\n",
    "SKlearn comes with test-train split functionality\n",
    "e.g. `X_train, X_test, Y_train, Y_test = train_test_split(X, Y, test_size=0.3)\n",
    "`predictions = model.predict(X_test)\n",
    "Shift+tab in Jupyter can check the possible parameters\n",
    "\"\"\"\n",
    "import numpy as np\n",
    "import pandas as pd"
   ]
  },
  {
   "cell_type": "code",
   "execution_count": 3,
   "id": "4843659e",
   "metadata": {},
   "outputs": [],
   "source": [
    "#file is separated by tab characters; we represent that in pandas pass\n",
    "df=pd.read_csv('../smsspamcollection copy.tsv',sep='\\t')"
   ]
  },
  {
   "cell_type": "code",
   "execution_count": 5,
   "id": "146c318e",
   "metadata": {},
   "outputs": [
    {
     "data": {
      "text/plain": [
       "label      0\n",
       "message    0\n",
       "length     0\n",
       "punct      0\n",
       "dtype: int64"
      ]
     },
     "execution_count": 5,
     "metadata": {},
     "output_type": "execute_result"
    }
   ],
   "source": [
    "#displays data in chart\n",
    "df.head()"
   ]
  },
  {
   "cell_type": "code",
   "execution_count": 14,
   "id": "4a3f1ffd",
   "metadata": {},
   "outputs": [
    {
     "name": "stdout",
     "output_type": "stream",
     "text": [
      "Null check: \n",
      " label      0\n",
      "message    0\n",
      "length     0\n",
      "punct      0\n",
      "dtype: int64\n",
      "Number of rows in dataframe: \n",
      " 5572\n",
      "Set of labels: \n",
      " ['ham' 'spam']\n",
      "Entries per label: \n",
      " ham     4825\n",
      "spam     747\n",
      "Name: label, dtype: int64\n"
     ]
    }
   ],
   "source": [
    "#displays a \"1\" next to a field if a datum is missing that field\n",
    "print(\"Null check: \\n\", df.isnull().sum())\n",
    "#Shows number of rows in dataframe\n",
    "print(\"Number of rows in dataframe: \\n\", len(df))\n",
    "#shows number of unique classifiers under a certain column in dataframe\n",
    "print(\"Set of labels: \\n\", df['label'].unique())\n",
    "#shows counts of each type of data\n",
    "print(\"Entries per label: \\n\", df['label'].value_counts())"
   ]
  },
  {
   "cell_type": "code",
   "execution_count": 15,
   "id": "2a020ea8",
   "metadata": {},
   "outputs": [
    {
     "data": {
      "image/png": "[encoded data removed]",
      "text/plain": [
       "<Figure size 640x480 with 1 Axes>"
      ]
     },
     "metadata": {},
     "output_type": "display_data"
    }
   ],
   "source": [
    "import matplotlib.pyplot as plt\n",
    "%matplotlib inline\n",
    "\n",
    "#display on logarithmic scale\n",
    "plt.xscale('log')\n",
    "bins = 1.15**(np.arange(0,50))\n",
    "#produces a histogram for each of ham and spam messages by length\n",
    "plt.hist(df[df['label']=='ham']['length'],bins=bins,alpha=0.8)\n",
    "plt.hist(df[df['label']=='spam']['length'],bins=bins,alpha=0.8)\n",
    "#shows that these messages typically differ heavily in length\n",
    "plt.legend(('ham','spam'))\n",
    "plt.show()"
   ]
  },
  {
   "cell_type": "code",
   "execution_count": 17,
   "id": "ce723d49",
   "metadata": {},
   "outputs": [
    {
     "data": {
      "image/png": "[encoded data removed]",
      "text/plain": [
       "<Figure size 640x480 with 1 Axes>"
      ]
     },
     "metadata": {},
     "output_type": "display_data"
    }
   ],
   "source": [
    "plt.xscale('log')\n",
    "bins = 1.5**(np.arange(0,15))\n",
    "#produces a histogram for each of ham and spam messages by punctuation volume\n",
    "plt.hist(df[df['label']=='ham']['punct'],bins=bins,alpha=0.8)\n",
    "plt.hist(df[df['label']=='spam']['punct'],bins=bins,alpha=0.8)\n",
    "#shows that these messages typically differ slightly in punctuation\n",
    "plt.legend(('ham','spam'))\n",
    "plt.show()"
   ]
  },
  {
   "cell_type": "code",
   "execution_count": 18,
   "id": "e4806dfa",
   "metadata": {},
   "outputs": [],
   "source": [
    "#so spam tends to be longer and have less punctuation\n",
    "from sklearn.model_selection import train_test_split"
   ]
  },
  {
   "cell_type": "code",
   "execution_count": 20,
   "id": "a20d1055",
   "metadata": {},
   "outputs": [
    {
     "name": "stdout",
     "output_type": "stream",
     "text": [
      "X_train: (3900, 2)\n",
      "X_test: (1672, 2)\n",
      "full X_test:       length  punct\n",
      "3245     147     14\n",
      "944      116      1\n",
      "1044     102      3\n",
      "2484      45      0\n",
      "812      112      4\n",
      "2973      65      2\n",
      "2991     126      7\n",
      "2942      95      3\n",
      "230       34      0\n",
      "1181      26      3\n",
      "1912      92      3\n",
      "1992     119      5\n",
      "5435      33      4\n",
      "4805     110      2\n",
      "401      156      3\n",
      "1859      32      2\n",
      "1344     159      8\n",
      "2952      32      1\n",
      "501      149      4\n",
      "3337      28      3\n",
      "1945      72      4\n",
      "3142      30      0\n",
      "2422      83      8\n",
      "381      300     14\n",
      "5567     160      8\n",
      "4937      24      7\n",
      "79        76      4\n",
      "5240      48      5\n",
      "2554      34      1\n",
      "5345      16      1\n",
      "...      ...    ...\n",
      "1170     146      4\n",
      "1391     155      6\n",
      "4337      68      7\n",
      "220      159      5\n",
      "1662      75      4\n",
      "627       66      1\n",
      "3545      84      3\n",
      "2809      61      4\n",
      "83        36      0\n",
      "3102      28      1\n",
      "790       28      0\n",
      "2476      29      0\n",
      "461       62      1\n",
      "4907      32      0\n",
      "551      281      9\n",
      "3375      23      0\n",
      "4020     158      7\n",
      "3516      32      3\n",
      "198       64      2\n",
      "3193      35      1\n",
      "2857     276     19\n",
      "402       39      1\n",
      "3782     198     13\n",
      "4456     324     38\n",
      "5308     162      8\n",
      "2505     160     10\n",
      "2525      99      5\n",
      "4975      62      5\n",
      "650       97     11\n",
      "4463      95      4\n",
      "\n",
      "[1672 rows x 2 columns]\n"
     ]
    }
   ],
   "source": [
    "#X is feature data\n",
    "X=df[['length','punct']]\n",
    "#Y is our label\n",
    "y=df['label']\n",
    "#utilizes a random state variable to randomly split the data\n",
    "X_train, X_test, y_train, y_test = train_test_split(X,y,test_size=0.3,random_state=42)\n",
    "print(\"X_train:\", X_train.shape)\n",
    "print(\"X_test:\", X_test.shape)\n",
    "#this print should demonstrate that the values have been randomly selected\n",
    "print(\"full X_test: \\n\", X_test)"
   ]
  },
  {
   "cell_type": "code",
   "execution_count": 29,
   "id": "23571cec",
   "metadata": {},
   "outputs": [
    {
     "name": "stdout",
     "output_type": "stream",
     "text": [
      "X_test predictions: \n",
      " ['ham' 'ham' 'ham' ... 'ham' 'ham' 'ham']\n",
      "\n",
      " Confusion Matrix:\n",
      "           predict ham  predict spam\n",
      "true ham          1404            44\n",
      "true spam          219             5\n",
      "\n",
      " Classification report:\n",
      "              precision    recall  f1-score   support\n",
      "\n",
      "         ham       0.87      0.97      0.91      1448\n",
      "        spam       0.10      0.02      0.04       224\n",
      "\n",
      "   micro avg       0.84      0.84      0.84      1672\n",
      "   macro avg       0.48      0.50      0.48      1672\n",
      "weighted avg       0.76      0.84      0.80      1672\n",
      "\n",
      "\n",
      " Accuracy score between predictions and test data:\n",
      "0.8427033492822966\n"
     ]
    }
   ],
   "source": [
    "from sklearn.linear_model import LogisticRegression\n",
    "from sklearn import metrics\n",
    "lr_model = LogisticRegression(solver='lbfgs')\n",
    "#reports back with the model used, along with all training data used\n",
    "lr_model.fit(X_train,y_train)\n",
    "#now we'll test the accuracy of the model\n",
    "predictions = lr_model.predict(X_test)\n",
    "print(\"X_test predictions: \\n\", predictions)\n",
    "#now construct a confusion matrix to understand results\n",
    "#In this case, we only correctly classified 5 spam texts, with 44 FP and 219 FN\n",
    "print(\"\\n Confusion Matrix:\")\n",
    "df2 = pd.DataFrame(metrics.confusion_matrix(y_test,predictions), \n",
    "                   index=['true ham','true spam'], columns=['predict ham','predict spam'])\n",
    "print(df2)\n",
    "print(\"\\n Classification report:\")\n",
    "#it's good at detecting ham, but not spam\n",
    "print(metrics.classification_report(y_test,predictions))\n",
    "print(\"\\n Accuracy score between predictions and test data:\")\n",
    "print(metrics.accuracy_score(y_test,predictions))"
   ]
  },
  {
   "cell_type": "code",
   "execution_count": 30,
   "id": "3cb4c77a",
   "metadata": {},
   "outputs": [
    {
     "name": "stdout",
     "output_type": "stream",
     "text": [
      "[[1438   10]\n",
      " [ 224    0]]\n"
     ]
    }
   ],
   "source": [
    "#Naive bayes model\n",
    "from sklearn.naive_bayes import MultinomialNB\n",
    "nb_model = MultinomialNB()\n",
    "nb_model.fit(X_train,y_train)\n",
    "predictions = nb_model.predict(X_test)\n",
    "#correctly identifies 0 spam; 0 precision and 0 recall for spam\n",
    "print(metrics.confusion_matrix(y_test,predictions))\n",
    "print(metrics.classification_report(y_test,predictions))"
   ]
  },
  {
   "cell_type": "code",
   "execution_count": 32,
   "id": "9941a196",
   "metadata": {},
   "outputs": [
    {
     "name": "stdout",
     "output_type": "stream",
     "text": [
      "[[1373   75]\n",
      " [ 121  103]]\n"
     ]
    }
   ],
   "source": [
    "#support vector machine model\n",
    "from sklearn.svm import SVC\n",
    "svc_model=SVC(gamma='auto')\n",
    "svc_model.fit(X_train,y_train)\n",
    "predictions = svc_model.predict(X_test)\n",
    "print(metrics.confusion_matrix(y_test,predictions))"
   ]
  },
  {
   "cell_type": "code",
   "execution_count": null,
   "id": "78c661bd",
   "metadata": {},
   "outputs": [],
   "source": []
  }
 ],
 "metadata": {
  "kernelspec": {
   "display_name": "Python 3 (ipykernel)",
   "language": "python",
   "name": "python3"
  },
  "language_info": {
   "codemirror_mode": {
    "name": "ipython",
    "version": 3
   },
   "file_extension": ".py",
   "mimetype": "text/x-python",
   "name": "python",
   "nbconvert_exporter": "python",
   "pygments_lexer": "ipython3",
   "version": "3.7.16"
  }
 },
 "nbformat": 4,
 "nbformat_minor": 5
}
