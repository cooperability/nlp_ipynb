{
 "cells": [
  {
   "cell_type": "code",
   "execution_count": 7,
   "id": "d572d591",
   "metadata": {},
   "outputs": [
    {
     "name": "stdout",
     "output_type": "stream",
     "text": [
      "Total starting entries: \n",
      " 2000\n",
      "null values before removal: \n",
      " label      0\n",
      "review    35\n",
      "dtype: int64\n",
      "\n",
      " Total entries after naive isnull removal: \n",
      " 1965\n",
      "Null values after naive isnull removal: \n",
      " label     0\n",
      "review    0\n",
      "dtype: int64\n",
      "\n",
      " Total entries after blank review removal: \n",
      " 1938\n",
      "Null values after blank review removal: \n",
      " label     0\n",
      "review    0\n",
      "dtype: int64\n"
     ]
    }
   ],
   "source": [
    "import numpy as np\n",
    "import pandas as pd\n",
    "df = pd.read_csv(\"../moviereviews.tsv\",sep='\\t')\n",
    "print(\"Total starting entries: \\n\", len(df))\n",
    "print(\"null values before removal: \\n\", df.isnull().sum())\n",
    "\n",
    "#drop missing data\n",
    "df.dropna(inplace=True)\n",
    "print(\"\\n Total entries after naive isnull removal: \\n\", len(df))\n",
    "print(\"Null values after naive isnull removal: \\n\", df.isnull().sum())\n",
    "\n",
    "#Drop empty string data, or blank reviews\n",
    "blanks = []\n",
    "#each object in df has (index,label,review text)\n",
    "for i,lb,rv in df.itertuples():\n",
    "    if type(rv) == str:\n",
    "        if rv.isspace():\n",
    "            blanks.append(i) #colllect index positions of reviews that are empty\n",
    "df.dropna(blanks,inplace=True)\n",
    "print(\"\\n Total entries after blank review removal: \\n\", len(df))\n",
    "print(\"Null values after blank review removal: \\n\", df.isnull().sum())"
   ]
  },
  {
   "cell_type": "code",
   "execution_count": 12,
   "id": "49df2d6b",
   "metadata": {},
   "outputs": [
    {
     "name": "stdout",
     "output_type": "stream",
     "text": [
      "Value counts: \n",
      " neg    969\n",
      "pos    969\n",
      "Name: label, dtype: int64\n",
      "[[235  47]\n",
      " [ 41 259]]\n",
      "              precision    recall  f1-score   support\n",
      "\n",
      "         neg       0.85      0.83      0.84       282\n",
      "         pos       0.85      0.86      0.85       300\n",
      "\n",
      "   micro avg       0.85      0.85      0.85       582\n",
      "   macro avg       0.85      0.85      0.85       582\n",
      "weighted avg       0.85      0.85      0.85       582\n",
      "\n",
      "0.8487972508591065\n"
     ]
    }
   ],
   "source": [
    "#display value counts for each label in dataset\n",
    "print(\"Value counts: \\n\", df['label'].value_counts())\n",
    "\n",
    "#perform train-test data split\n",
    "from sklearn.model_selection import train_test_split\n",
    "X=df['review']\n",
    "y=df['label']\n",
    "X_train, X_test, y_train, y_test = train_test_split(X,y,test_size=0.3,random_state=42)\n",
    "\n",
    "#create a data pipeline to train and fit the model\n",
    "from sklearn.pipeline import Pipeline\n",
    "from sklearn.feature_extraction.text import TfidfVectorizer\n",
    "from sklearn.svm import LinearSVC #Linear support vector classifier\n",
    "\n",
    "#pipeline input is a list of tuples specifying components\n",
    "text_clf = Pipeline([('tfidf',TfidfVectorizer()),\n",
    "                    ('clf',LinearSVC())])\n",
    "text_clf.fit(X_train,y_train)\n",
    "#predict test data for comparison \n",
    "predictions = text_clf.predict(X_test)\n",
    "from sklearn.metrics import confusion_matrix, classification_report, accuracy_score\n",
    "print(confusion_matrix(y_test,predictions))\n",
    "print(classification_report(y_test,predictions))\n",
    "print(accuracy_score(y_test,predictions))"
   ]
  },
  {
   "cell_type": "code",
   "execution_count": null,
   "id": "b380c104",
   "metadata": {},
   "outputs": [],
   "source": []
  }
 ],
 "metadata": {
  "kernelspec": {
   "display_name": "Python 3 (ipykernel)",
   "language": "python",
   "name": "python3"
  },
  "language_info": {
   "codemirror_mode": {
    "name": "ipython",
    "version": 3
   },
   "file_extension": ".py",
   "mimetype": "text/x-python",
   "name": "python",
   "nbconvert_exporter": "python",
   "pygments_lexer": "ipython3",
   "version": "3.7.16"
  }
 },
 "nbformat": 4,
 "nbformat_minor": 5
}
