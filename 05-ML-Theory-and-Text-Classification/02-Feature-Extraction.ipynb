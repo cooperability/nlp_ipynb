{
 "cells": [
  {
   "cell_type": "code",
   "execution_count": 3,
   "id": "cc2b594b",
   "metadata": {},
   "outputs": [
    {
     "data": {
      "text/plain": [
       "'\\n%%writefile 1.txt\\nthis is a story about cats\\nour feline pets\\ncats are furry animals\\n\\n%%writefile 2.txt\\nthis is a story about surfing\\ncatching waves is fun\\nsurfing is a popular water sport\\n'"
      ]
     },
     "execution_count": 3,
     "metadata": {},
     "output_type": "execute_result"
    }
   ],
   "source": [
    "\"\"\"\n",
    "-Most ML algos can't input raw text; instead we must extract features to pass numerical input\n",
    "-counter vectorization creates a Document Term Matrix counting term appearances per document\n",
    " -For a large corpus, we'll have a sparse Document Term Matrix with many 0s\n",
    "-an alternative to count vectorization is TF-IDF, Term Frequency Inverse Document Frequency\n",
    " -term frequency tf(t,d) is the raw count of term occurrences in document\n",
    " -Inverse Doc Frequency factor decreases weight of frequent terms, increases weight of rare terms\n",
    " -It is the logarithmically scaled inverse fraction of documents containing word, reflecting the\n",
    " word's importance to a document in a corpus\n",
    " -logarithm of (# of docs in corpus)/(# of docs containing target term)\n",
    " TF-IDF = term freq / inverse doc freq = term freq / (1/doc freq)\n",
    " TF-IDF = tf(t,d)*idf(t,D)\n",
    " idf(t,D) = log(N/(|{d \\in D: t \\in d}|))\n",
    " -in 2015, 83% of text-based recommender systems in digital libraries used TF-IDF\n",
    " -A simple ranking function can sum the tf-idf for each query term; complex ranking functions vary \n",
    " on this theme\n",
    " -weighting factor benefits user modeling by mining text for information retrieval\n",
    "\"\"\"\n",
    "#1. create a corpus\n",
    "\"\"\"\n",
    "%%writefile 1.txt\n",
    "this is a story about cats\n",
    "our feline pets\n",
    "cats are furry animals\n",
    "\n",
    "%%writefile 2.txt\n",
    "this is a story about surfing\n",
    "catching waves is fun\n",
    "surfing is a popular water sport\n",
    "\"\"\""
   ]
  },
  {
   "cell_type": "code",
   "execution_count": 4,
   "id": "df746c2e",
   "metadata": {},
   "outputs": [
    {
     "name": "stdout",
     "output_type": "stream",
     "text": [
      "{'this': 1, 'is': 2, 'a': 3, 'story': 4, 'about': 5, 'cats': 6, 'our': 7, 'feline': 8, 'pets': 9, 'are': 10, 'furry': 11, 'animals': 12}\n"
     ]
    }
   ],
   "source": [
    "#1. Vocabulary Creation\n",
    "vocab = {}\n",
    "i = 1\n",
    "\n",
    "with open('../1.txt') as f:\n",
    "    x = f.read().lower().split()\n",
    "    \n",
    "for word in x:\n",
    "    if word in vocab:\n",
    "        continue\n",
    "    else:\n",
    "        vocab[word]=i\n",
    "        i+=1\n",
    "\n",
    "print(vocab)"
   ]
  },
  {
   "cell_type": "code",
   "execution_count": 6,
   "id": "cf3ea404",
   "metadata": {},
   "outputs": [
    {
     "name": "stdout",
     "output_type": "stream",
     "text": [
      "{'this': 1, 'is': 2, 'a': 3, 'story': 4, 'about': 5, 'cats': 6, 'our': 7, 'feline': 8, 'pets': 9, 'are': 10, 'furry': 11, 'animals': 12, 'surfing': 13, 'catching': 14, 'waves': 15, 'fun': 16, 'popular': 17, 'water': 18, 'sport': 19}\n"
     ]
    }
   ],
   "source": [
    "with open('../2.txt') as f:\n",
    "    x = f.read().lower().split()\n",
    "\n",
    "    #assign each word a unique id in the vocab\n",
    "for word in x:\n",
    "    if word in vocab:\n",
    "        continue\n",
    "    else:\n",
    "        vocab[word]=i\n",
    "        i+=1\n",
    "print(vocab)"
   ]
  },
  {
   "cell_type": "code",
   "execution_count": 11,
   "id": "6046e96e",
   "metadata": {},
   "outputs": [
    {
     "name": "stdout",
     "output_type": "stream",
     "text": [
      "initialized vector one: \n",
      " ['1.txt', 0, 0, 0, 0, 0, 0, 0, 0, 0, 0, 0, 0, 0, 0, 0, 0, 0, 0, 0]\n",
      "\n",
      " filled vector one: \n",
      " ['1.txt', 1, 1, 1, 1, 1, 2, 1, 1, 1, 1, 1, 1, 0, 0, 0, 0, 0, 0, 0]\n",
      "initialized vector two: \n",
      " ['2.txt', 0, 0, 0, 0, 0, 0, 0, 0, 0, 0, 0, 0, 0, 0, 0, 0, 0, 0, 0]\n",
      "\n",
      " filled vector two: \n",
      " ['2.txt', 1, 3, 1, 1, 1, 0, 0, 0, 0, 0, 0, 0, 2, 1, 1, 1, 1, 1, 1]\n"
     ]
    }
   ],
   "source": [
    "#FEATURE EXTRACTION: start by creating an empty vector with spaces for each vocab word\n",
    "one = ['1.txt']+[0]*len(vocab)\n",
    "print(\"initialized vector one: \\n\", one)\n",
    "#map frequencies of each word in 1.txt to the vector\n",
    "with open('../1.txt') as f:\n",
    "    x = f.read().lower().split()\n",
    "\n",
    "for word in x:\n",
    "    one[vocab[word]]+=1\n",
    "\n",
    "    #most words appear once, \"cats\" appears twice\n",
    "print(\"\\n filled vector one: \\n\", one)\n",
    "\n",
    "two = ['2.txt']+[0]*len(vocab)\n",
    "print(\"initialized vector two: \\n\", two)\n",
    "#map frequencies of each word in 1.txt to the vector\n",
    "with open('../2.txt') as f:\n",
    "    x = f.read().lower().split()\n",
    "\n",
    "for word in x:\n",
    "    two[vocab[word]]+=1\n",
    "\n",
    "print(\"\\n filled vector two: \\n\", two)"
   ]
  },
  {
   "cell_type": "code",
   "execution_count": 20,
   "id": "51300645",
   "metadata": {},
   "outputs": [
    {
     "name": "stdout",
     "output_type": "stream",
     "text": [
      "Set: \n",
      "   label                                            message  length  punct\n",
      "0   ham  Go until jurong point, crazy.. Available only ...     111      9\n",
      "1   ham                      Ok lar... Joking wif u oni...      29      6\n",
      "2  spam  Free entry in 2 a wkly comp to win FA Cup fina...     155      6\n",
      "3   ham  U dun say so early hor... U c already then say...      49      6\n",
      "4   ham  Nah I don't think he goes to usf, he lives aro...      61      2\n",
      "\n",
      " Null check: \n",
      " label      0\n",
      "message    0\n",
      "length     0\n",
      "punct      0\n",
      "dtype: int64\n",
      "\n",
      " value counts: \n",
      " ham     4825\n",
      "spam     747\n",
      "Name: label, dtype: int64\n",
      "\n",
      " training data rows & vocab size: (3733, 7082)\n"
     ]
    }
   ],
   "source": [
    "import numpy as np\n",
    "import pandas as pd\n",
    "\n",
    "df = pd.read_csv('../smsspamcollection copy.tsv',sep='\\t')\n",
    "print(\"Set: \\n\", df.head())\n",
    "print(\"\\n Null check: \\n\", df.isnull().sum())\n",
    "print(\"\\n value counts: \\n\", df['label'].value_counts())\n",
    "from sklearn.model_selection import train_test_split\n",
    "#By convention, X capitalized and y lowercase because X=larger matrix and y=1d array\n",
    "X=df['message']\n",
    "y=df['label']\n",
    "X_train, X_test, y_train, y_test = train_test_split(X,y,test_size=0.33,random_state=42)\n",
    "\n",
    "from sklearn.feature_extraction.text import CountVectorizer\n",
    "count_vect=CountVectorizer()\n",
    "#Fit the vectorizer to the data, build vocab, count words\n",
    "#you will almost always perform the fit and transform steps together:\n",
    "#count_vect.fit(X_train)\n",
    "#X_train_counts = count_vect.transform(X_train)\n",
    "#transform original text message to vector, a fit transform convenience method is provided by skl\n",
    "X_train_counts = count_vect.fit_transform(X_train)\n",
    "#print(X_train_counts) #can't be viewed because it's a huge sparse matrix\n",
    "#print(X_train.shape)  #will tell you # of data rows\n",
    "print(\"\\n training data rows & vocab size:\", X_train_counts.shape) \n"
   ]
  },
  {
   "cell_type": "code",
   "execution_count": 25,
   "id": "87a34dc4",
   "metadata": {},
   "outputs": [
    {
     "name": "stdout",
     "output_type": "stream",
     "text": [
      "X train tfidf shape: (3733, 7082)\n"
     ]
    },
    {
     "data": {
      "text/plain": [
       "LinearSVC(C=1.0, class_weight=None, dual=True, fit_intercept=True,\n",
       "     intercept_scaling=1, loss='squared_hinge', max_iter=1000,\n",
       "     multi_class='ovr', penalty='l2', random_state=None, tol=0.0001,\n",
       "     verbose=0)"
      ]
     },
     "execution_count": 25,
     "metadata": {},
     "output_type": "execute_result"
    }
   ],
   "source": [
    "from sklearn.feature_extraction.text import TfidfTransformer\n",
    "tfidf_t = TfidfTransformer()\n",
    "X_train_tfidf = tfidf_t.fit_transform(X_train_counts)\n",
    "print(\"X train tfidf shape:\", X_train_tfidf.shape)\n",
    "#The inbuild SKL TfIdf vectorizer can perform this for you too\n",
    "from sklearn.feature_extraction.text import TfidfVectorizer\n",
    "vectorizer = TfidfVectorizer()\n",
    "X_train_tfidf = vectorizer.fit_transform(X_train)\n",
    "from sklearn.svm import LinearSVC\n",
    "clf = LinearSVC()\n",
    "clf.fit(X_train_tfidf,y_train)"
   ]
  },
  {
   "cell_type": "code",
   "execution_count": 32,
   "id": "a385c7c4",
   "metadata": {},
   "outputs": [
    {
     "name": "stdout",
     "output_type": "stream",
     "text": [
      "Pipeline guts: \n",
      " Pipeline(memory=None,\n",
      "     steps=[('tfidf', TfidfVectorizer(analyzer='word', binary=False, decode_error='strict',\n",
      "        dtype=<class 'numpy.float64'>, encoding='utf-8', input='content',\n",
      "        lowercase=True, max_df=1.0, max_features=None, min_df=1,\n",
      "        ngram_range=(1, 1), norm='l2', preprocessor=None, smooth_idf=True,...ax_iter=1000,\n",
      "     multi_class='ovr', penalty='l2', random_state=None, tol=0.0001,\n",
      "     verbose=0))])\n",
      "\n",
      " Confusion matrix: \n",
      " [[1586    7]\n",
      " [  12  234]]\n",
      "\n",
      " Classification Report: \n",
      "               precision    recall  f1-score   support\n",
      "\n",
      "         ham       0.99      1.00      0.99      1593\n",
      "        spam       0.97      0.95      0.96       246\n",
      "\n",
      "   micro avg       0.99      0.99      0.99      1839\n",
      "   macro avg       0.98      0.97      0.98      1839\n",
      "weighted avg       0.99      0.99      0.99      1839\n",
      "\n"
     ]
    },
    {
     "data": {
      "text/plain": [
       "0.989668297988037"
      ]
     },
     "execution_count": 32,
     "metadata": {},
     "output_type": "execute_result"
    }
   ],
   "source": [
    "#We can also combine all of the above as a single pipeline, provided by SKL\n",
    "from sklearn.pipeline import Pipeline\n",
    "#You can now provide training data and have it vectorized and classified in 1 step\n",
    "text_clf = Pipeline([('tfidf',TfidfVectorizer()),('clf',LinearSVC())])\n",
    "print(\"Pipeline guts: \\n\", text_clf.fit(X_train,y_train))\n",
    "predictions = text_clf.predict(X_test)\n",
    "from sklearn.metrics import confusion_matrix, classification_report\n",
    "print(\"\\n Confusion matrix: \\n\", confusion_matrix(y_test,predictions))\n",
    "print(\"\\n Classification Report: \\n\", classification_report(y_test,predictions))\n",
    "from sklearn import metrics\n",
    "#this output should have much better scoring than our previous model\n",
    "metrics.accuracy_score(y_test,predictions)"
   ]
  },
  {
   "cell_type": "code",
   "execution_count": 34,
   "id": "4819ee9e",
   "metadata": {},
   "outputs": [
    {
     "name": "stdout",
     "output_type": "stream",
     "text": [
      "first classification(ham): \n",
      " ['ham']\n",
      "second classification(spam): \n",
      " ['spam']\n"
     ]
    }
   ],
   "source": [
    "#now, use the trained model to make predictions on NEW input\n",
    "print(\"first classification(ham): \\n\", text_clf.predict(['Hi how are you?']))\n",
    "print(\"second classification(spam): \\n\", text_clf.predict(['Congrats! You won. Text WON to 48950 congratulations free entry']))"
   ]
  },
  {
   "cell_type": "code",
   "execution_count": null,
   "id": "41a39c5c",
   "metadata": {},
   "outputs": [],
   "source": []
  }
 ],
 "metadata": {
  "kernelspec": {
   "display_name": "Python 3 (ipykernel)",
   "language": "python",
   "name": "python3"
  },
  "language_info": {
   "codemirror_mode": {
    "name": "ipython",
    "version": 3
   },
   "file_extension": ".py",
   "mimetype": "text/x-python",
   "name": "python",
   "nbconvert_exporter": "python",
   "pygments_lexer": "ipython3",
   "version": "3.7.16"
  }
 },
 "nbformat": 4,
 "nbformat_minor": 5
}
