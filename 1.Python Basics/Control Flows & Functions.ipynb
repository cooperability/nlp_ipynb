{
 "cells": [
  {
   "cell_type": "code",
   "execution_count": 7,
   "id": "cb135dac",
   "metadata": {},
   "outputs": [
    {
     "name": "stdout",
     "output_type": "stream",
     "text": [
      "w\n",
      "h\n",
      "e\n",
      "r\n",
      "e\n",
      "'\n",
      "s\n",
      " \n",
      "t\n",
      "h\n",
      "e\n",
      " \n",
      "b\n",
      "e\n",
      "e\n",
      "f\n",
      "?\n",
      "0 w\n",
      "1 h\n",
      "2 e\n",
      "3 r\n",
      "4 e\n",
      "5 '\n",
      "6 s\n",
      "7  \n",
      "8 t\n",
      "9 h\n",
      "10 e\n",
      "11  \n",
      "12 b\n",
      "13 e\n",
      "14 e\n",
      "15 f\n",
      "16 ?\n",
      "0\n",
      "1\n",
      "2\n",
      "3\n",
      "2\n",
      "0\n",
      "-2\n"
     ]
    }
   ],
   "source": [
    "#for-each loops for strings & arrays\n",
    "s=\"where's the beef?\"\n",
    "for char in s:\n",
    "    print(char)\n",
    "for i, char in enumerate(s): #add line numbers in output\n",
    "    print(i, char)\n",
    "for i in range(4): #alternate: for(int i=0; i<4; i++)\n",
    "    print(i)\n",
    "for i in range(2, -3, -2): #alternate: for(int i=2; i> -3; i-=2)\n",
    "    print(i)"
   ]
  },
  {
   "cell_type": "code",
   "execution_count": 23,
   "id": "a64ae4b9",
   "metadata": {},
   "outputs": [
    {
     "name": "stdout",
     "output_type": "stream",
     "text": [
      "0\n",
      "1 is odd\n",
      "2\n",
      "3 is odd\n"
     ]
    }
   ],
   "source": [
    "#while loops, bonus elif if-else structure\n",
    "ind=0\n",
    "while ind<5:\n",
    "    if(ind % 2==1):\n",
    "        print(f\"{ind} is odd\")\n",
    "    elif(ind > 3): \n",
    "        break\n",
    "    else:\n",
    "        print(ind)\n",
    "    ind += 1"
   ]
  },
  {
   "cell_type": "code",
   "execution_count": 26,
   "id": "809dceab",
   "metadata": {},
   "outputs": [
    {
     "name": "stdout",
     "output_type": "stream",
     "text": [
      "it don't exist\n",
      "it's None\n"
     ]
    }
   ],
   "source": [
    "#none-checking\n",
    "a=None\n",
    "b=[]\n",
    "c=''\n",
    "if a or b or c:\n",
    "    print(\"it exists\")\n",
    "else:\n",
    "    print(\"it don't exist\")\n",
    "    \n",
    "if a is None:\n",
    "    print(\"it's None\")\n",
    "    "
   ]
  },
  {
   "cell_type": "code",
   "execution_count": 32,
   "id": "b08630cf",
   "metadata": {},
   "outputs": [
    {
     "name": "stdout",
     "output_type": "stream",
     "text": [
      "True\n",
      "False\n",
      "15\n",
      "10\n",
      "15\n"
     ]
    }
   ],
   "source": [
    "#define functions\n",
    "def func(a,b): #junk function\n",
    "    pass #quiets errors\n",
    "func(5,10)\n",
    "\n",
    "def check_range(a, min_val=0, max_val=10): #is a in the given range?\n",
    "    print(min_val<a<max_val)\n",
    "check_range(5, 4, 6)\n",
    "check_range(5, max_val=3) #optional parameters can be omitted\n",
    "\n"
   ]
  },
  {
   "cell_type": "code",
   "execution_count": 34,
   "id": "e9330239",
   "metadata": {},
   "outputs": [
    {
     "name": "stdout",
     "output_type": "stream",
     "text": [
      "15\n",
      "10\n",
      "15\n",
      "[0, 1, 2, 3, 4]\n",
      "[10, 1, 2, 3, 4]\n",
      "[10, 1, 2, 3, 4]\n"
     ]
    }
   ],
   "source": [
    "#parameters of immutable type are passed by value.\n",
    "def func(var):\n",
    "    var=10\n",
    "    print(var)\n",
    "a=15\n",
    "print(a)\n",
    "func(a)\n",
    "print(a)\n",
    "\n",
    "#parameters of mutable types are passed by reference.\n",
    "def f(v):\n",
    "    v[0]=10\n",
    "    print(v)\n",
    "a=[0,1,2,3,4]\n",
    "print(a)\n",
    "f(a)\n",
    "print(a)"
   ]
  },
  {
   "cell_type": "code",
   "execution_count": 37,
   "id": "ff98f41f",
   "metadata": {},
   "outputs": [
    {
     "name": "stdout",
     "output_type": "stream",
     "text": [
      "[0, 1, 2, 3, 4]\n"
     ]
    },
    {
     "ename": "TypeError",
     "evalue": "'function' object is not subscriptable",
     "output_type": "error",
     "traceback": [
      "\u001b[0;31m---------------------------------------------------------------------------\u001b[0m",
      "\u001b[0;31mTypeError\u001b[0m                                 Traceback (most recent call last)",
      "\u001b[0;32m/var/folders/q_/lbt0ys9j66d18h8b4fc_pcrw0000gn/T/ipykernel_18971/2707867376.py\u001b[0m in \u001b[0;36m<module>\u001b[0;34m\u001b[0m\n\u001b[1;32m      8\u001b[0m \u001b[0ma\u001b[0m\u001b[0;34m=\u001b[0m\u001b[0;34m[\u001b[0m\u001b[0;36m0\u001b[0m\u001b[0;34m,\u001b[0m\u001b[0;36m1\u001b[0m\u001b[0;34m,\u001b[0m\u001b[0;36m2\u001b[0m\u001b[0;34m,\u001b[0m\u001b[0;36m3\u001b[0m\u001b[0;34m,\u001b[0m\u001b[0;36m4\u001b[0m\u001b[0;34m]\u001b[0m\u001b[0;34m\u001b[0m\u001b[0;34m\u001b[0m\u001b[0m\n\u001b[1;32m      9\u001b[0m \u001b[0mprint\u001b[0m\u001b[0;34m(\u001b[0m\u001b[0ma\u001b[0m\u001b[0;34m)\u001b[0m\u001b[0;34m\u001b[0m\u001b[0;34m\u001b[0m\u001b[0m\n\u001b[0;32m---> 10\u001b[0;31m \u001b[0mfunc\u001b[0m\u001b[0;34m(\u001b[0m\u001b[0ma\u001b[0m\u001b[0;34m)\u001b[0m\u001b[0;34m\u001b[0m\u001b[0;34m\u001b[0m\u001b[0m\n\u001b[0m\u001b[1;32m     11\u001b[0m \u001b[0mprint\u001b[0m\u001b[0;34m(\u001b[0m\u001b[0ma\u001b[0m\u001b[0;34m)\u001b[0m\u001b[0;34m\u001b[0m\u001b[0;34m\u001b[0m\u001b[0m\n",
      "\u001b[0;32m/var/folders/q_/lbt0ys9j66d18h8b4fc_pcrw0000gn/T/ipykernel_18971/2707867376.py\u001b[0m in \u001b[0;36mfunc\u001b[0;34m(var)\u001b[0m\n\u001b[1;32m      3\u001b[0m \u001b[0;32mdef\u001b[0m \u001b[0mfunc\u001b[0m\u001b[0;34m(\u001b[0m\u001b[0mvar\u001b[0m\u001b[0;34m)\u001b[0m\u001b[0;34m:\u001b[0m\u001b[0;34m\u001b[0m\u001b[0;34m\u001b[0m\u001b[0m\n\u001b[1;32m      4\u001b[0m     \u001b[0mvar\u001b[0m\u001b[0;34m=\u001b[0m\u001b[0mvar\u001b[0m\u001b[0;34m[\u001b[0m\u001b[0;34m:\u001b[0m\u001b[0;34m]\u001b[0m \u001b[0;31m#option 1\u001b[0m\u001b[0;34m\u001b[0m\u001b[0;34m\u001b[0m\u001b[0m\n\u001b[0;32m----> 5\u001b[0;31m     \u001b[0mv\u001b[0m\u001b[0;34m=\u001b[0m\u001b[0mcopy\u001b[0m\u001b[0;34m.\u001b[0m\u001b[0mdeepcopy\u001b[0m\u001b[0;34m[\u001b[0m\u001b[0mvar\u001b[0m\u001b[0;34m]\u001b[0m\u001b[0;34m\u001b[0m\u001b[0;34m\u001b[0m\u001b[0m\n\u001b[0m\u001b[1;32m      6\u001b[0m     \u001b[0mv\u001b[0m\u001b[0;34m[\u001b[0m\u001b[0;36m0\u001b[0m\u001b[0;34m]\u001b[0m\u001b[0;34m=\u001b[0m\u001b[0;36m10\u001b[0m\u001b[0;34m\u001b[0m\u001b[0;34m\u001b[0m\u001b[0m\n\u001b[1;32m      7\u001b[0m     \u001b[0mprint\u001b[0m\u001b[0;34m(\u001b[0m\u001b[0mv\u001b[0m\u001b[0;34m)\u001b[0m\u001b[0;34m\u001b[0m\u001b[0;34m\u001b[0m\u001b[0m\n",
      "\u001b[0;31mTypeError\u001b[0m: 'function' object is not subscriptable"
     ]
    }
   ],
   "source": [
    "#circumvent mutability by creating a deep copy of your variable for your function\n",
    "import copy\n",
    "def func(var):\n",
    "    var=var[:] #option 1\n",
    "    v=copy.deepcopy[var]\n",
    "    v[0]=10\n",
    "    print(v)\n",
    "a=[0,1,2,3,4]\n",
    "print(a)\n",
    "func(a)\n",
    "print(a)"
   ]
  },
  {
   "cell_type": "code",
   "execution_count": null,
   "id": "e20dd95c",
   "metadata": {},
   "outputs": [],
   "source": []
  }
 ],
 "metadata": {
  "kernelspec": {
   "display_name": "Python 3 (ipykernel)",
   "language": "python",
   "name": "python3"
  },
  "language_info": {
   "codemirror_mode": {
    "name": "ipython",
    "version": 3
   },
   "file_extension": ".py",
   "mimetype": "text/x-python",
   "name": "python",
   "nbconvert_exporter": "python",
   "pygments_lexer": "ipython3",
   "version": "3.7.16"
  }
 },
 "nbformat": 4,
 "nbformat_minor": 5
}
