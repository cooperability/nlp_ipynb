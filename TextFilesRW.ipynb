{
 "cells": [
  {
   "cell_type": "code",
   "execution_count": 3,
   "id": "c321a51a",
   "metadata": {},
   "outputs": [
    {
     "name": "stdout",
     "output_type": "stream",
     "text": [
      "Overwriting test.txt\n"
     ]
    }
   ],
   "source": [
    "%%writefile test.txt\n",
    "Hello, this is the introduction to 2030 prediction.\n",
    "This is the second line of the experiment. \n",
    "The possibilities of this are pretty endless near as I can tell. I'm actually really digging python."
   ]
  },
  {
   "cell_type": "code",
   "execution_count": 4,
   "id": "7cbdadac",
   "metadata": {},
   "outputs": [
    {
     "data": {
      "text/plain": [
       "'/Users/cooperreed/Desktop/Winter/Academic/NLP_COURSE'"
      ]
     },
     "execution_count": 4,
     "metadata": {},
     "output_type": "execute_result"
    }
   ],
   "source": [
    "pwd"
   ]
  },
  {
   "cell_type": "code",
   "execution_count": 5,
   "id": "24089338",
   "metadata": {},
   "outputs": [],
   "source": [
    "myfile = open('test.txt')"
   ]
  },
  {
   "cell_type": "code",
   "execution_count": 6,
   "id": "ec5f2812",
   "metadata": {},
   "outputs": [
    {
     "data": {
      "text/plain": [
       "<_io.TextIOWrapper name='test.txt' mode='r' encoding='UTF-8'>"
      ]
     },
     "execution_count": 6,
     "metadata": {},
     "output_type": "execute_result"
    }
   ],
   "source": [
    "myfile"
   ]
  },
  {
   "cell_type": "code",
   "execution_count": 7,
   "id": "ce98cff0",
   "metadata": {},
   "outputs": [
    {
     "data": {
      "text/plain": [
       "\"Hello, this is the introduction to 2030 prediction.\\nThis is the second line of the experiment. \\nThe possibilities of this are pretty endless near as I can tell. I'm actually really digging python.\\n\""
      ]
     },
     "execution_count": 7,
     "metadata": {},
     "output_type": "execute_result"
    }
   ],
   "source": [
    "myfile.read()"
   ]
  },
  {
   "cell_type": "code",
   "execution_count": 8,
   "id": "a6b217d9",
   "metadata": {},
   "outputs": [
    {
     "data": {
      "text/plain": [
       "''"
      ]
     },
     "execution_count": 8,
     "metadata": {},
     "output_type": "execute_result"
    }
   ],
   "source": [
    "myfile.read()"
   ]
  },
  {
   "cell_type": "code",
   "execution_count": 9,
   "id": "7134a635",
   "metadata": {},
   "outputs": [
    {
     "data": {
      "text/plain": [
       "0"
      ]
     },
     "execution_count": 9,
     "metadata": {},
     "output_type": "execute_result"
    }
   ],
   "source": [
    "myfile.seek(0)"
   ]
  },
  {
   "cell_type": "code",
   "execution_count": 10,
   "id": "5ce77003",
   "metadata": {},
   "outputs": [
    {
     "data": {
      "text/plain": [
       "\"Hello, this is the introduction to 2030 prediction.\\nThis is the second line of the experiment. \\nThe possibilities of this are pretty endless near as I can tell. I'm actually really digging python.\\n\""
      ]
     },
     "execution_count": 10,
     "metadata": {},
     "output_type": "execute_result"
    }
   ],
   "source": [
    "myfile.read()"
   ]
  },
  {
   "cell_type": "code",
   "execution_count": 11,
   "id": "b9986731",
   "metadata": {},
   "outputs": [
    {
     "data": {
      "text/plain": [
       "0"
      ]
     },
     "execution_count": 11,
     "metadata": {},
     "output_type": "execute_result"
    }
   ],
   "source": [
    "myfile.seek(0)"
   ]
  },
  {
   "cell_type": "code",
   "execution_count": 12,
   "id": "37fc5c9d",
   "metadata": {},
   "outputs": [],
   "source": [
    "content = myfile.read()"
   ]
  },
  {
   "cell_type": "code",
   "execution_count": 13,
   "id": "37c4f5e7",
   "metadata": {},
   "outputs": [
    {
     "name": "stdout",
     "output_type": "stream",
     "text": [
      "Hello, this is the introduction to 2030 prediction.\n",
      "This is the second line of the experiment. \n",
      "The possibilities of this are pretty endless near as I can tell. I'm actually really digging python.\n",
      "\n"
     ]
    }
   ],
   "source": [
    "print(content)"
   ]
  },
  {
   "cell_type": "code",
   "execution_count": 14,
   "id": "27015e55",
   "metadata": {},
   "outputs": [],
   "source": [
    "myfile.close()"
   ]
  },
  {
   "cell_type": "code",
   "execution_count": 21,
   "id": "1cb23c52",
   "metadata": {},
   "outputs": [],
   "source": [
    "myfile = open('test.txt')"
   ]
  },
  {
   "cell_type": "code",
   "execution_count": 22,
   "id": "20058787",
   "metadata": {},
   "outputs": [
    {
     "name": "stdout",
     "output_type": "stream",
     "text": [
      "Hello,\n",
      "This\n",
      "The\n"
     ]
    }
   ],
   "source": [
    "mylines = myfile.readlines()\n",
    "myfile.seek(0)\n",
    "for line in mylines:\n",
    "    print(line.split()[0])"
   ]
  },
  {
   "cell_type": "code",
   "execution_count": 26,
   "id": "a75a8088",
   "metadata": {},
   "outputs": [],
   "source": [
    "myfile = open('test.txt','w+')\n",
    "#opening with w or w+ tags causes the original file to be COMPLETELY overwritten"
   ]
  },
  {
   "cell_type": "code",
   "execution_count": 27,
   "id": "f6692664",
   "metadata": {},
   "outputs": [
    {
     "data": {
      "text/plain": [
       "''"
      ]
     },
     "execution_count": 27,
     "metadata": {},
     "output_type": "execute_result"
    }
   ],
   "source": [
    "myfile.read()"
   ]
  },
  {
   "cell_type": "code",
   "execution_count": 28,
   "id": "603d50ef",
   "metadata": {},
   "outputs": [
    {
     "data": {
      "text/plain": [
       "46"
      ]
     },
     "execution_count": 28,
     "metadata": {},
     "output_type": "execute_result"
    }
   ],
   "source": [
    "myfile.write('positivity is the cream of the crop of reality')"
   ]
  },
  {
   "cell_type": "code",
   "execution_count": 29,
   "id": "52e061eb",
   "metadata": {},
   "outputs": [
    {
     "data": {
      "text/plain": [
       "0"
      ]
     },
     "execution_count": 29,
     "metadata": {},
     "output_type": "execute_result"
    }
   ],
   "source": [
    "myfile.seek(0)"
   ]
  },
  {
   "cell_type": "code",
   "execution_count": 30,
   "id": "3c19ff67",
   "metadata": {},
   "outputs": [
    {
     "data": {
      "text/plain": [
       "'positivity is the cream of the crop of reality'"
      ]
     },
     "execution_count": 30,
     "metadata": {},
     "output_type": "execute_result"
    }
   ],
   "source": [
    "myfile.read()"
   ]
  },
  {
   "cell_type": "code",
   "execution_count": 31,
   "id": "9b806359",
   "metadata": {},
   "outputs": [],
   "source": [
    "myfile.close()"
   ]
  },
  {
   "cell_type": "code",
   "execution_count": 32,
   "id": "42caeaf9",
   "metadata": {},
   "outputs": [],
   "source": [
    "myfile = open('test.txt','a+')\n",
    "#if a+ (\"append\") can't find the stated file, it will create the file"
   ]
  },
  {
   "cell_type": "code",
   "execution_count": 33,
   "id": "760ba065",
   "metadata": {},
   "outputs": [
    {
     "data": {
      "text/plain": [
       "7"
      ]
     },
     "execution_count": 33,
     "metadata": {},
     "output_type": "execute_result"
    }
   ],
   "source": [
    "myfile.write('A+ TIME')"
   ]
  },
  {
   "cell_type": "code",
   "execution_count": 34,
   "id": "36a73258",
   "metadata": {},
   "outputs": [],
   "source": [
    "myfile.close()"
   ]
  },
  {
   "cell_type": "code",
   "execution_count": 35,
   "id": "8d7a5bac",
   "metadata": {},
   "outputs": [],
   "source": [
    "newfile = open('test.txt')"
   ]
  },
  {
   "cell_type": "code",
   "execution_count": 36,
   "id": "ab120a41",
   "metadata": {},
   "outputs": [
    {
     "data": {
      "text/plain": [
       "'positivity is the cream of the crop of realityA+ TIME'"
      ]
     },
     "execution_count": 36,
     "metadata": {},
     "output_type": "execute_result"
    }
   ],
   "source": [
    "newfile.read()"
   ]
  },
  {
   "cell_type": "code",
   "execution_count": 37,
   "id": "f37f7148",
   "metadata": {},
   "outputs": [],
   "source": [
    "myfile = open('oops.txt', mode='a+')"
   ]
  },
  {
   "cell_type": "code",
   "execution_count": 38,
   "id": "dd435e00",
   "metadata": {},
   "outputs": [
    {
     "data": {
      "text/plain": [
       "''"
      ]
     },
     "execution_count": 38,
     "metadata": {},
     "output_type": "execute_result"
    }
   ],
   "source": [
    "myfile.read()"
   ]
  },
  {
   "cell_type": "code",
   "execution_count": 39,
   "id": "83c21475",
   "metadata": {},
   "outputs": [
    {
     "data": {
      "text/plain": [
       "27"
      ]
     },
     "execution_count": 39,
     "metadata": {},
     "output_type": "execute_result"
    }
   ],
   "source": [
    "myfile.write('adding a line using a+ mode')"
   ]
  },
  {
   "cell_type": "code",
   "execution_count": 40,
   "id": "64784bb7",
   "metadata": {},
   "outputs": [
    {
     "data": {
      "text/plain": [
       "0"
      ]
     },
     "execution_count": 40,
     "metadata": {},
     "output_type": "execute_result"
    }
   ],
   "source": [
    "myfile.seek(0)"
   ]
  },
  {
   "cell_type": "code",
   "execution_count": 41,
   "id": "5dfbd27c",
   "metadata": {},
   "outputs": [
    {
     "data": {
      "text/plain": [
       "'adding a line using a+ mode'"
      ]
     },
     "execution_count": 41,
     "metadata": {},
     "output_type": "execute_result"
    }
   ],
   "source": [
    "myfile.read()"
   ]
  },
  {
   "cell_type": "code",
   "execution_count": 42,
   "id": "563d283b",
   "metadata": {},
   "outputs": [
    {
     "data": {
      "text/plain": [
       "30"
      ]
     },
     "execution_count": 42,
     "metadata": {},
     "output_type": "execute_result"
    }
   ],
   "source": [
    "myfile.write('\\nThis is a separated new line.')"
   ]
  },
  {
   "cell_type": "code",
   "execution_count": 43,
   "id": "473409bc",
   "metadata": {},
   "outputs": [
    {
     "data": {
      "text/plain": [
       "0"
      ]
     },
     "execution_count": 43,
     "metadata": {},
     "output_type": "execute_result"
    }
   ],
   "source": [
    "myfile.seek(0)"
   ]
  },
  {
   "cell_type": "code",
   "execution_count": 44,
   "id": "08224fea",
   "metadata": {},
   "outputs": [
    {
     "data": {
      "text/plain": [
       "'adding a line using a+ mode\\nThis is a separated new line.'"
      ]
     },
     "execution_count": 44,
     "metadata": {},
     "output_type": "execute_result"
    }
   ],
   "source": [
    "myfile.read()"
   ]
  },
  {
   "cell_type": "code",
   "execution_count": 45,
   "id": "9ba71bb8",
   "metadata": {},
   "outputs": [
    {
     "data": {
      "text/plain": [
       "0"
      ]
     },
     "execution_count": 45,
     "metadata": {},
     "output_type": "execute_result"
    }
   ],
   "source": [
    "myfile.seek(0)"
   ]
  },
  {
   "cell_type": "code",
   "execution_count": 46,
   "id": "b2d03d11",
   "metadata": {},
   "outputs": [
    {
     "name": "stdout",
     "output_type": "stream",
     "text": [
      "adding a line using a+ mode\n",
      "This is a separated new line.\n"
     ]
    }
   ],
   "source": [
    "print(myfile.read())"
   ]
  },
  {
   "cell_type": "code",
   "execution_count": 47,
   "id": "607e7a4d",
   "metadata": {},
   "outputs": [],
   "source": [
    "myfile.close()"
   ]
  },
  {
   "cell_type": "code",
   "execution_count": 48,
   "id": "591cd1a3",
   "metadata": {},
   "outputs": [],
   "source": [
    "with open('oops.txt', 'r') as mynewfile:\n",
    "    myvariable = mynewfile.readlines()"
   ]
  },
  {
   "cell_type": "code",
   "execution_count": 49,
   "id": "e49067e5",
   "metadata": {},
   "outputs": [
    {
     "data": {
      "text/plain": [
       "['adding a line using a+ mode\\n', 'This is a separated new line.']"
      ]
     },
     "execution_count": 49,
     "metadata": {},
     "output_type": "execute_result"
    }
   ],
   "source": [
    "myvariable"
   ]
  },
  {
   "cell_type": "code",
   "execution_count": null,
   "id": "c147d13b",
   "metadata": {},
   "outputs": [],
   "source": []
  }
 ],
 "metadata": {
  "kernelspec": {
   "display_name": "Python 3 (ipykernel)",
   "language": "python",
   "name": "python3"
  },
  "language_info": {
   "codemirror_mode": {
    "name": "ipython",
    "version": 3
   },
   "file_extension": ".py",
   "mimetype": "text/x-python",
   "name": "python",
   "nbconvert_exporter": "python",
   "pygments_lexer": "ipython3",
   "version": "3.7.16"
  }
 },
 "nbformat": 4,
 "nbformat_minor": 5
}
