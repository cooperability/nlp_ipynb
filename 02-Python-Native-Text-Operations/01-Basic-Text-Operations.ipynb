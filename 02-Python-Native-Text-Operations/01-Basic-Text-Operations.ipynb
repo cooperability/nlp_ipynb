{
 "cells": [
  {
   "cell_type": "code",
   "execution_count": 1,
   "id": "ed4c8498",
   "metadata": {},
   "outputs": [
    {
     "name": "stdout",
     "output_type": "stream",
     "text": [
      "hello\n"
     ]
    }
   ],
   "source": [
    "print(\"hello\")"
   ]
  },
  {
   "cell_type": "code",
   "execution_count": 3,
   "id": "0840c3cb",
   "metadata": {},
   "outputs": [
    {
     "name": "stdout",
     "output_type": "stream",
     "text": [
      "my name is Cooper\n"
     ]
    }
   ],
   "source": [
    "person = \"Cooper\"\n",
    "print(f\"my name is {person}\")"
   ]
  },
  {
   "cell_type": "code",
   "execution_count": 5,
   "id": "17022665",
   "metadata": {},
   "outputs": [
    {
     "ename": "NameError",
     "evalue": "name 'Cooper' is not defined",
     "output_type": "error",
     "traceback": [
      "\u001b[0;31m---------------------------------------------------------------------------\u001b[0m",
      "\u001b[0;31mNameError\u001b[0m                                 Traceback (most recent call last)",
      "\u001b[0;32m/var/folders/q_/lbt0ys9j66d18h8b4fc_pcrw0000gn/T/ipykernel_21803/62553589.py\u001b[0m in \u001b[0;36m<module>\u001b[0;34m\u001b[0m\n\u001b[0;32m----> 1\u001b[0;31m \u001b[0md\u001b[0m\u001b[0;34m=\u001b[0m\u001b[0;34m{\u001b[0m\u001b[0;34m'a'\u001b[0m\u001b[0;34m:\u001b[0m\u001b[0mCooper\u001b[0m\u001b[0;34m,\u001b[0m \u001b[0;34m'b'\u001b[0m\u001b[0;34m:\u001b[0m\u001b[0mFrank\u001b[0m\u001b[0;34m}\u001b[0m\u001b[0;34m\u001b[0m\u001b[0;34m\u001b[0m\u001b[0m\n\u001b[0m\u001b[1;32m      2\u001b[0m \u001b[0mprint\u001b[0m\u001b[0;34m(\u001b[0m\u001b[0;34mf\"my name is {d['a']}\"\u001b[0m\u001b[0;34m)\u001b[0m\u001b[0;34m\u001b[0m\u001b[0;34m\u001b[0m\u001b[0m\n",
      "\u001b[0;31mNameError\u001b[0m: name 'Cooper' is not defined"
     ]
    }
   ],
   "source": [
    "d={'a':Cooper, 'b':Frank}\n",
    "print(f\"my name is {d['a']}\")"
   ]
  },
  {
   "cell_type": "code",
   "execution_count": 6,
   "id": "53ff70cb",
   "metadata": {},
   "outputs": [
    {
     "ename": "NameError",
     "evalue": "name 'Cooper' is not defined",
     "output_type": "error",
     "traceback": [
      "\u001b[0;31m---------------------------------------------------------------------------\u001b[0m",
      "\u001b[0;31mNameError\u001b[0m                                 Traceback (most recent call last)",
      "\u001b[0;32m/var/folders/q_/lbt0ys9j66d18h8b4fc_pcrw0000gn/T/ipykernel_21803/62553589.py\u001b[0m in \u001b[0;36m<module>\u001b[0;34m\u001b[0m\n\u001b[0;32m----> 1\u001b[0;31m \u001b[0md\u001b[0m\u001b[0;34m=\u001b[0m\u001b[0;34m{\u001b[0m\u001b[0;34m'a'\u001b[0m\u001b[0;34m:\u001b[0m\u001b[0mCooper\u001b[0m\u001b[0;34m,\u001b[0m \u001b[0;34m'b'\u001b[0m\u001b[0;34m:\u001b[0m\u001b[0mFrank\u001b[0m\u001b[0;34m}\u001b[0m\u001b[0;34m\u001b[0m\u001b[0;34m\u001b[0m\u001b[0m\n\u001b[0m\u001b[1;32m      2\u001b[0m \u001b[0mprint\u001b[0m\u001b[0;34m(\u001b[0m\u001b[0;34mf\"my name is {d['a']}\"\u001b[0m\u001b[0;34m)\u001b[0m\u001b[0;34m\u001b[0m\u001b[0;34m\u001b[0m\u001b[0m\n",
      "\u001b[0;31mNameError\u001b[0m: name 'Cooper' is not defined"
     ]
    }
   ],
   "source": [
    "d={'a':Cooper, 'b':Frank}\n",
    "print(f\"my name is {d['a']}\")"
   ]
  },
  {
   "cell_type": "code",
   "execution_count": 7,
   "id": "6cd6bbfb",
   "metadata": {},
   "outputs": [
    {
     "name": "stdout",
     "output_type": "stream",
     "text": [
      "my name is Cooper\n"
     ]
    }
   ],
   "source": [
    "d={'a':'Cooper', 'b':'Frank'}\n",
    "print(f\"my name is {d['a']}\")"
   ]
  },
  {
   "cell_type": "code",
   "execution_count": 8,
   "id": "93af5623",
   "metadata": {},
   "outputs": [
    {
     "name": "stdout",
     "output_type": "stream",
     "text": [
      "I am 0 years old\n"
     ]
    }
   ],
   "source": [
    "list=[0,1,2]\n",
    "print(f\"I am {list[0]} years old\")"
   ]
  },
  {
   "cell_type": "code",
   "execution_count": 9,
   "id": "fdb0cdd6",
   "metadata": {},
   "outputs": [
    {
     "data": {
      "text/plain": [
       "[('Author', 'Topic', 'Pages'),\n",
       " ('Twain', 'Rafting', 601),\n",
       " ('Feynman', 'Physics', 95),\n",
       " ('Hamilton', 'Mythology', 144)]"
      ]
     },
     "execution_count": 9,
     "metadata": {},
     "output_type": "execute_result"
    }
   ],
   "source": [
    "library = [('Author', 'Topic', 'Pages'), ('Twain', 'Rafting', 601), ('Feynman', 'Physics', 95), ('Hamilton', 'Mythology', 144)]\n",
    "library"
   ]
  },
  {
   "cell_type": "code",
   "execution_count": 12,
   "id": "6fe417ec",
   "metadata": {},
   "outputs": [
    {
     "name": "stdout",
     "output_type": "stream",
     "text": [
      "Author is Author; topic is Topic; pages is Pages\n",
      "Author is Twain; topic is Rafting; pages is 601\n",
      "Author is Feynman; topic is Physics; pages is 95\n",
      "Author is Hamilton; topic is Mythology; pages is 144\n"
     ]
    }
   ],
   "source": [
    "library = [('Author', 'Topic', 'Pages'), ('Twain', 'Rafting', 601), ('Feynman', 'Physics', 95), ('Hamilton', 'Mythology', 144)]\n",
    "for author,topic,pages in library:\n",
    "    print(f\"Author is {author}; topic is {topic}; pages is {pages}\")"
   ]
  },
  {
   "cell_type": "code",
   "execution_count": 14,
   "id": "4c692e77",
   "metadata": {},
   "outputs": [
    {
     "name": "stdout",
     "output_type": "stream",
     "text": [
      "Author     Topic      Pages     \n",
      "Twain      Rafting           601\n",
      "Feynman    Physics            95\n",
      "Hamilton   Mythology         144\n"
     ]
    }
   ],
   "source": [
    "library = [('Author', 'Topic', 'Pages'), ('Twain', 'Rafting', 601), ('Feynman', 'Physics', 95), ('Hamilton', 'Mythology', 144)]\n",
    "for author,topic,pages in library:\n",
    "    print(f\"{author:{10}} {topic:{10}} {pages:{10}}\")"
   ]
  },
  {
   "cell_type": "code",
   "execution_count": 15,
   "id": "370d41fd",
   "metadata": {},
   "outputs": [
    {
     "name": "stdout",
     "output_type": "stream",
     "text": [
      "Author     Topic           Pages\n",
      "Twain      Rafting           601\n",
      "Feynman    Physics            95\n",
      "Hamilton   Mythology         144\n"
     ]
    }
   ],
   "source": [
    "library = [('Author', 'Topic', 'Pages'), ('Twain', 'Rafting', 601), ('Feynman', 'Physics', 95), ('Hamilton', 'Mythology', 144)]\n",
    "for author,topic,pages in library:\n",
    "    print(f\"{author:{10}} {topic:{10}} {pages:>{10}}\")"
   ]
  },
  {
   "cell_type": "code",
   "execution_count": 16,
   "id": "c5dc3898",
   "metadata": {},
   "outputs": [
    {
     "name": "stdout",
     "output_type": "stream",
     "text": [
      "Author     Topic      -----Pages\n",
      "Twain      Rafting    -------601\n",
      "Feynman    Physics    --------95\n",
      "Hamilton   Mythology  -------144\n"
     ]
    }
   ],
   "source": [
    "library = [('Author', 'Topic', 'Pages'), ('Twain', 'Rafting', 601), ('Feynman', 'Physics', 95), ('Hamilton', 'Mythology', 144)]\n",
    "for author,topic,pages in library:\n",
    "    print(f\"{author:{10}} {topic:{10}} {pages:->{10}}\")"
   ]
  },
  {
   "cell_type": "code",
   "execution_count": 18,
   "id": "94eb1f2a",
   "metadata": {},
   "outputs": [
    {
     "name": "stdout",
     "output_type": "stream",
     "text": [
      "2022-07-05 00:00:00\n"
     ]
    }
   ],
   "source": [
    "from datetime import datetime\n",
    "today=datetime(year=2022,month=7,day=5)\n",
    "print(f\"{today}\")"
   ]
  },
  {
   "cell_type": "code",
   "execution_count": 19,
   "id": "f3422d97",
   "metadata": {},
   "outputs": [
    {
     "name": "stdout",
     "output_type": "stream",
     "text": [
      "July 05, 2022\n"
     ]
    }
   ],
   "source": [
    "print(f\"{today:%B %d, %Y}\")\n",
    "see strftime.org for https://strftime.org/ cheatsheet"
   ]
  },
  {
   "cell_type": "code",
   "execution_count": null,
   "id": "2478faae",
   "metadata": {},
   "outputs": [],
   "source": []
  }
 ],
 "metadata": {
  "kernelspec": {
   "display_name": "Python 3 (ipykernel)",
   "language": "python",
   "name": "python3"
  },
  "language_info": {
   "codemirror_mode": {
    "name": "ipython",
    "version": 3
   },
   "file_extension": ".py",
   "mimetype": "text/x-python",
   "name": "python",
   "nbconvert_exporter": "python",
   "pygments_lexer": "ipython3",
   "version": "3.7.16"
  }
 },
 "nbformat": 4,
 "nbformat_minor": 5
}
