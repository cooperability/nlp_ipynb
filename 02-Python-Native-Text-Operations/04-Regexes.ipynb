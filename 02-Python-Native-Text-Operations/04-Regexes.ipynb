{
 "cells": [
  {
   "cell_type": "code",
   "execution_count": 1,
   "id": "d6d8ffad",
   "metadata": {},
   "outputs": [
    {
     "data": {
      "text/plain": [
       "True"
      ]
     },
     "execution_count": 1,
     "metadata": {},
     "output_type": "execute_result"
    }
   ],
   "source": [
    "text = \"the phone number you need is 111-111-1111\"\n",
    "\"111-111-1111\" in text"
   ]
  },
  {
   "cell_type": "code",
   "execution_count": 8,
   "id": "5330aecd",
   "metadata": {},
   "outputs": [],
   "source": [
    "#import regex library\n",
    "import re"
   ]
  },
  {
   "cell_type": "code",
   "execution_count": 3,
   "id": "bf549f79",
   "metadata": {},
   "outputs": [],
   "source": [
    "pattern=\"phone\""
   ]
  },
  {
   "cell_type": "code",
   "execution_count": 4,
   "id": "d40cad5e",
   "metadata": {},
   "outputs": [
    {
     "data": {
      "text/plain": [
       "<re.Match object; span=(4, 9), match='phone'>"
      ]
     },
     "execution_count": 4,
     "metadata": {},
     "output_type": "execute_result"
    }
   ],
   "source": [
    "re.search(pattern,text)"
   ]
  },
  {
   "cell_type": "code",
   "execution_count": 7,
   "id": "6103d9a1",
   "metadata": {},
   "outputs": [],
   "source": [
    "my_result=re.search(pattern,text)"
   ]
  },
  {
   "cell_type": "code",
   "execution_count": 9,
   "id": "2a109d3e",
   "metadata": {},
   "outputs": [
    {
     "data": {
      "text/plain": [
       "(4, 9)"
      ]
     },
     "execution_count": 9,
     "metadata": {},
     "output_type": "execute_result"
    }
   ],
   "source": [
    "my_result.span()"
   ]
  },
  {
   "cell_type": "code",
   "execution_count": 2,
   "id": "aea344e6",
   "metadata": {},
   "outputs": [],
   "source": [
    "text = \"phone home phone home phone home\""
   ]
  },
  {
   "cell_type": "code",
   "execution_count": 11,
   "id": "3a7abd2c",
   "metadata": {},
   "outputs": [],
   "source": [
    "result=re.search(pattern,text)"
   ]
  },
  {
   "cell_type": "code",
   "execution_count": 12,
   "id": "e58d3189",
   "metadata": {},
   "outputs": [
    {
     "data": {
      "text/plain": [
       "(0, 5)"
      ]
     },
     "execution_count": 12,
     "metadata": {},
     "output_type": "execute_result"
    }
   ],
   "source": [
    "result.span()"
   ]
  },
  {
   "cell_type": "code",
   "execution_count": 13,
   "id": "af42ff1d",
   "metadata": {},
   "outputs": [],
   "source": [
    "all_results = re.findall(\"phone\",text)"
   ]
  },
  {
   "cell_type": "code",
   "execution_count": 14,
   "id": "331de693",
   "metadata": {},
   "outputs": [
    {
     "data": {
      "text/plain": [
       "3"
      ]
     },
     "execution_count": 14,
     "metadata": {},
     "output_type": "execute_result"
    }
   ],
   "source": [
    "len(all_results)"
   ]
  },
  {
   "cell_type": "code",
   "execution_count": 15,
   "id": "83475ef4",
   "metadata": {},
   "outputs": [
    {
     "name": "stdout",
     "output_type": "stream",
     "text": [
      "(0, 5)\n",
      "(11, 16)\n",
      "(22, 27)\n"
     ]
    }
   ],
   "source": [
    "for result in re.finditer(\"phone\",text):\n",
    "    print(result.span())"
   ]
  },
  {
   "cell_type": "code",
   "execution_count": 3,
   "id": "3648b2d1",
   "metadata": {},
   "outputs": [
    {
     "data": {
      "text/plain": [
       "'phone home phone home phone home'"
      ]
     },
     "execution_count": 3,
     "metadata": {},
     "output_type": "execute_result"
    }
   ],
   "source": [
    "text"
   ]
  },
  {
   "cell_type": "code",
   "execution_count": 4,
   "id": "71a55646",
   "metadata": {},
   "outputs": [],
   "source": [
    "text = \"phone: 555-593-9327\""
   ]
  },
  {
   "cell_type": "code",
   "execution_count": 5,
   "id": "8a527811",
   "metadata": {},
   "outputs": [
    {
     "data": {
      "text/plain": [
       "'phone: 555-593-9327'"
      ]
     },
     "execution_count": 5,
     "metadata": {},
     "output_type": "execute_result"
    }
   ],
   "source": [
    "text"
   ]
  },
  {
   "cell_type": "code",
   "execution_count": 6,
   "id": "8ebcb01b",
   "metadata": {},
   "outputs": [],
   "source": [
    "pattern = r'\\d\\d\\d-\\d\\d\\d-\\d\\d\\d\\d'"
   ]
  },
  {
   "cell_type": "code",
   "execution_count": 9,
   "id": "17978041",
   "metadata": {},
   "outputs": [],
   "source": [
    "phone_num=re.search(pattern,text)"
   ]
  },
  {
   "cell_type": "code",
   "execution_count": 10,
   "id": "e62d48d4",
   "metadata": {},
   "outputs": [
    {
     "data": {
      "text/plain": [
       "<re.Match object; span=(7, 19), match='555-593-9327'>"
      ]
     },
     "execution_count": 10,
     "metadata": {},
     "output_type": "execute_result"
    }
   ],
   "source": [
    "phone_num"
   ]
  },
  {
   "cell_type": "code",
   "execution_count": 12,
   "id": "d41d3e8a",
   "metadata": {},
   "outputs": [
    {
     "data": {
      "text/plain": [
       "'555-593-9327'"
      ]
     },
     "execution_count": 12,
     "metadata": {},
     "output_type": "execute_result"
    }
   ],
   "source": [
    "phone_num.group()"
   ]
  },
  {
   "cell_type": "code",
   "execution_count": 20,
   "id": "8a841591",
   "metadata": {},
   "outputs": [
    {
     "data": {
      "text/plain": [
       "'555-593-9327'"
      ]
     },
     "execution_count": 20,
     "metadata": {},
     "output_type": "execute_result"
    }
   ],
   "source": [
    "#now using quantifiers\n",
    "pattern=r'(\\d{3})-(\\d{3})-(\\d{4})'\n",
    "mymatch = re.search(pattern,text)\n",
    "mymatch.group()"
   ]
  },
  {
   "cell_type": "code",
   "execution_count": 21,
   "id": "6e63768d",
   "metadata": {},
   "outputs": [
    {
     "data": {
      "text/plain": [
       "'555'"
      ]
     },
     "execution_count": 21,
     "metadata": {},
     "output_type": "execute_result"
    }
   ],
   "source": [
    "mymatch.group(1)"
   ]
  },
  {
   "cell_type": "code",
   "execution_count": 23,
   "id": "0ff5b08b",
   "metadata": {},
   "outputs": [
    {
     "data": {
      "text/plain": [
       "<re.Match object; span=(4, 9), match='woman'>"
      ]
     },
     "execution_count": 23,
     "metadata": {},
     "output_type": "execute_result"
    }
   ],
   "source": [
    "re.search(r\"man|woman\", \"the woman jumped\")"
   ]
  },
  {
   "cell_type": "code",
   "execution_count": 25,
   "id": "b5c16f94",
   "metadata": {},
   "outputs": [
    {
     "data": {
      "text/plain": [
       "[' cat', ' hat', ' sat', 'plat', ' rat', 'atat']"
      ]
     },
     "execution_count": 25,
     "metadata": {},
     "output_type": "execute_result"
    }
   ],
   "source": [
    "re.findall(r\"..at\", \"The cat in the hat sat splat ratatatat\")"
   ]
  },
  {
   "cell_type": "code",
   "execution_count": 26,
   "id": "571edd79",
   "metadata": {},
   "outputs": [
    {
     "data": {
      "text/plain": [
       "['1']"
      ]
     },
     "execution_count": 26,
     "metadata": {},
     "output_type": "execute_result"
    }
   ],
   "source": [
    "re.findall(r\"^\\d\", '1 is the loneliest number')"
   ]
  },
  {
   "cell_type": "code",
   "execution_count": 27,
   "id": "c4894344",
   "metadata": {},
   "outputs": [
    {
     "data": {
      "text/plain": [
       "[]"
      ]
     },
     "execution_count": 27,
     "metadata": {},
     "output_type": "execute_result"
    }
   ],
   "source": [
    "re.findall(r\"^\\d\", 'one is the loneliest number')"
   ]
  },
  {
   "cell_type": "code",
   "execution_count": 28,
   "id": "489c3d96",
   "metadata": {},
   "outputs": [
    {
     "data": {
      "text/plain": [
       "['2']"
      ]
     },
     "execution_count": 28,
     "metadata": {},
     "output_type": "execute_result"
    }
   ],
   "source": [
    "re.findall(r\"\\d$\", 'i like 2')"
   ]
  },
  {
   "cell_type": "code",
   "execution_count": 30,
   "id": "3af949ee",
   "metadata": {
    "collapsed": true
   },
   "outputs": [
    {
     "data": {
      "text/plain": [
       "['t',\n",
       " 'h',\n",
       " 'i',\n",
       " 's',\n",
       " ' ',\n",
       " 's',\n",
       " 'e',\n",
       " 'n',\n",
       " 't',\n",
       " 'e',\n",
       " 'n',\n",
       " 'c',\n",
       " 'e',\n",
       " ' ',\n",
       " ' ',\n",
       " 'h',\n",
       " 'a',\n",
       " 's',\n",
       " ' ',\n",
       " ' ',\n",
       " 't',\n",
       " 'h',\n",
       " 'r',\n",
       " 'e',\n",
       " 'e',\n",
       " ' ',\n",
       " 'n',\n",
       " 'u',\n",
       " 'm',\n",
       " 'b',\n",
       " 'e',\n",
       " 'r',\n",
       " 's',\n",
       " ' ',\n",
       " ' ',\n",
       " 'i',\n",
       " 'n',\n",
       " ' ',\n",
       " 'i',\n",
       " 't']"
      ]
     },
     "execution_count": 30,
     "metadata": {},
     "output_type": "execute_result"
    }
   ],
   "source": []
  },
  {
   "cell_type": "code",
   "execution_count": 31,
   "id": "49821258",
   "metadata": {},
   "outputs": [
    {
     "data": {
      "text/plain": [
       "['this sentence ', ' has ', ' three numbers ', ' in it']"
      ]
     },
     "execution_count": 31,
     "metadata": {},
     "output_type": "execute_result"
    }
   ],
   "source": [
    "text=\"this sentence 45 has 10 three numbers 27 in it\"\n",
    "re.findall(r\"[^\\d]+\",text)"
   ]
  },
  {
   "cell_type": "code",
   "execution_count": 36,
   "id": "7e34fa37",
   "metadata": {},
   "outputs": [
    {
     "data": {
      "text/plain": [
       "'this is a string full of punctuation'"
      ]
     },
     "execution_count": 36,
     "metadata": {},
     "output_type": "execute_result"
    }
   ],
   "source": [
    "text=\"this . is ? a ! string full of punctuation.?\"\n",
    "mylist=re.findall(r\"[^!.? ]+\",text)\n",
    "mylist\n",
    "' '.join(mylist)"
   ]
  },
  {
   "cell_type": "code",
   "execution_count": 39,
   "id": "be411ef4",
   "metadata": {},
   "outputs": [
    {
     "data": {
      "text/plain": [
       "['hyphen-words', 'long-ish', 'dashed-type']"
      ]
     },
     "execution_count": 39,
     "metadata": {},
     "output_type": "execute_result"
    }
   ],
   "source": [
    "text=\"only find hyphen-words, where are long-ish dashed-type words?\"\n",
    "re.findall(r'[\\w]+-[\\w]+',text)"
   ]
  },
  {
   "cell_type": "code",
   "execution_count": null,
   "id": "6475c99b",
   "metadata": {},
   "outputs": [],
   "source": []
  }
 ],
 "metadata": {
  "kernelspec": {
   "display_name": "Python 3 (ipykernel)",
   "language": "python",
   "name": "python3"
  },
  "language_info": {
   "codemirror_mode": {
    "name": "ipython",
    "version": 3
   },
   "file_extension": ".py",
   "mimetype": "text/x-python",
   "name": "python",
   "nbconvert_exporter": "python",
   "pygments_lexer": "ipython3",
   "version": "3.7.16"
  }
 },
 "nbformat": 4,
 "nbformat_minor": 5
}
