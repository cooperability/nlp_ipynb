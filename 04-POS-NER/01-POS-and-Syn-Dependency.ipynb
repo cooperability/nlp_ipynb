{
 "cells": [
  {
   "cell_type": "code",
   "execution_count": null,
   "id": "9893d6b5",
   "metadata": {},
   "outputs": [
    {
     "name": "stdout",
     "output_type": "stream",
     "text": [
      "/Users/cooperreed/anaconda3/envs/nlp_ipynb/bin/python\n"
     ]
    }
   ],
   "source": [
    "#most words are rare, and it's common for different words to mean the same thing & vice versa\n",
    "#identical words mean something different in a different order; need linguistic context knowledge\n",
    "#that's what spacy does: input raw text, output Doc with variety of annotations\n",
    "#coarse-grained POS tags: \n",
    "#fine-grained POS tags:\n",
    "import spacy \n",
    "nlp = spacy.load('en_core_web_sm')\n",
    "import sys\n",
    "print(sys.executable)\n"
   ]
  },
  {
   "cell_type": "code",
   "execution_count": 9,
   "id": "2d595469",
   "metadata": {},
   "outputs": [
    {
     "name": "stdout",
     "output_type": "stream",
     "text": [
      "Sphinx     PROPN      NNP        noun, proper singular\n",
      "of         ADP        IN         conjunction, subordinating or preposition\n",
      "black      ADJ        JJ         adjective (English), other noun-modifier (Chinese)\n",
      "quartz     NOUN       NN         noun, singular or mass\n",
      ",          PUNCT      ,          punctuation mark, comma\n",
      "judge      VERB       VBP        verb, non-3rd person singular present\n",
      "my         PRON       PRP$       pronoun, possessive\n",
      "vow        NOUN       NN         noun, singular or mass\n",
      ".          PUNCT      .          punctuation mark, sentence closer\n"
     ]
    }
   ],
   "source": [
    "#.pos_ is the coarse-grained POS tag, crudely sorting for adj, verb, preposition, noun, etc\n",
    "#.tag_ is the fine-grained POS tag, explained using spacy below!\n",
    "doc = nlp(u\"Sphinx of black quartz, judge my vow.\")\n",
    "for token in doc:\n",
    "    print(f\"{token.text:{10}} {token.pos_:{10}} {token.tag_:{10}} {spacy.explain(token.tag_)}\")"
   ]
  },
  {
   "cell_type": "code",
   "execution_count": 12,
   "id": "5bcc342d",
   "metadata": {},
   "outputs": [
    {
     "name": "stdout",
     "output_type": "stream",
     "text": [
      "first doc: read       VERB       VBP        verb, non-3rd person singular present\n",
      "first doc: read       VERB       VBD        verb, past tense\n"
     ]
    }
   ],
   "source": [
    "#spacy infers POS and tag from all context available, illustrated here by past/present separation\n",
    "doc1 = nlp(u\"I read books.\")\n",
    "token = doc1[1]\n",
    "print(f\"first doc: {token.text:{10}} {token.pos_:{10}} {token.tag_:{10}} {spacy.explain(token.tag_)}\")\n",
    "doc2 = nlp(u\"I read a book.\")\n",
    "token = doc2[1]\n",
    "print(f\"second doc: {token.text:{10}} {token.pos_:{10}} {token.tag_:{10}} {spacy.explain(token.tag_)}\")\n"
   ]
  },
  {
   "cell_type": "code",
   "execution_count": 16,
   "id": "86553030",
   "metadata": {},
   "outputs": [
    {
     "name": "stdout",
     "output_type": "stream",
     "text": [
      "{96: 1, 85: 1, 84: 1, 92: 2, 97: 2, 100: 1, 95: 1}\n",
      "PROPN\n",
      "84. ADJ   1\n",
      "85. ADP   1\n",
      "92. NOUN  2\n",
      "95. PRON  1\n",
      "96. PROPN 1\n",
      "97. PUNCT 2\n",
      "100. VERB  1\n"
     ]
    }
   ],
   "source": [
    "#count pos tags; \n",
    "doc = nlp(u\"Sphinx of black quartz, judge my vow.\")\n",
    "POS_counts = doc.count_by(spacy.attrs.POS)\n",
    "print(POS_counts) # shows part of speech code\n",
    "print(doc.vocab[96].text)\n",
    "for k, v in sorted(POS_counts.items()):\n",
    "    print(f\"{k}. {doc.vocab[k].text:{5}} {v}\")"
   ]
  },
  {
   "cell_type": "code",
   "execution_count": 20,
   "id": "0f8e6482",
   "metadata": {},
   "outputs": [
    {
     "name": "stdout",
     "output_type": "stream",
     "text": [
      "1292078113972184607. IN    1\n",
      "2593208677638477497. ,     1\n",
      "4062917326063685704. PRP$  1\n",
      "9188597074677201817. VBP   1\n",
      "10554686591937588953. JJ    1\n",
      "12646065887601541794. .     1\n",
      "15308085513773655218. NN    2\n",
      "15794550382381185553. NNP   1\n",
      "402. amod  1\n",
      "416. dobj  1\n",
      "429. nsubj 1\n",
      "439. pobj  1\n",
      "440. poss  1\n",
      "443. prep  1\n",
      "445. punct 2\n",
      "8206900633647566924. ROOT  1\n"
     ]
    }
   ],
   "source": [
    "\n",
    "TAG_counts = doc.count_by(spacy.attrs.TAG)\n",
    "for k, v in sorted(TAG_counts.items()):\n",
    "    print(f\"{k}. {doc.vocab[k].text:{5}} {v}\")\n",
    "DEP_counts = doc.count_by(spacy.attrs.DEP)   #syntactic dependency tags\n",
    "for k, v in sorted(DEP_counts.items()):      \n",
    "    print(f\"{k}. {doc.vocab[k].text:{5}} {v}\")"
   ]
  },
  {
   "cell_type": "code",
   "execution_count": 21,
   "id": "055171ec",
   "metadata": {},
   "outputs": [
    {
     "data": {
      "text/plain": [
       "796"
      ]
     },
     "execution_count": 21,
     "metadata": {},
     "output_type": "execute_result"
    }
   ],
   "source": [
    "len(doc.vocab)\n"
   ]
  },
  {
   "cell_type": "code",
   "execution_count": null,
   "id": "fba36b8c",
   "metadata": {},
   "outputs": [],
   "source": [
    "#Visualizing POS Structure; you should see a displacy syntactic dependency graph here\n",
    "import spacy \n",
    "nlp = spacy.load('en_core_web_sm')\n",
    "doc1 = nlp(u\"The quick brown fox jumped over the lazy dog.\")\n",
    "doc2 = nlp(u\"Sphinx of black quartz, judge my vow.\")\n",
    "from spacy import displacy\n",
    "#'compact' flattens words; we also set colors, font, and horizontal distance\n",
    "options = {'distance':50,'compact':'True','color':'yellow','bg':'#09a3d5','font':'Times'}\n",
    "displacy.render(doc1,style='dep',jupyter=True,options=options)\n",
    "displacy.render(doc2,style='dep',jupyter=True,options=options)\n",
    "#if you want to select a single inline display option\n",
    "displacy.render(doc1,style='dep',jupyter=True,options={'distance':50})\n"
   ]
  },
  {
   "cell_type": "code",
   "execution_count": null,
   "id": "0d562e3e",
   "metadata": {},
   "outputs": [
    {
     "name": "stderr",
     "output_type": "stream",
     "text": [
      "/Users/cooperreed/anaconda3/envs/nlp_ipynb/lib/python3.7/site-packages/spacy/displacy/__init__.py:106: UserWarning: [W011] It looks like you're calling displacy.serve from within a Jupyter notebook or a similar environment. This likely means you're already running a local web server, so there's no need to make displaCy start another one. Instead, you should be able to replace displacy.serve with displacy.render to show the visualization.\n",
      "  warnings.warn(Warnings.W011)\n"
     ]
    },
    {
     "data": {
      "text/html": [
       "<span class=\"tex2jax_ignore\"><!DOCTYPE html>\n",
       "<html lang=\"en\">\n",
       "    <head>\n",
       "        <title>displaCy</title>\n",
       "    </head>\n",
       "\n",
       "    <body style=\"font-size: 16px; font-family: -apple-system, BlinkMacSystemFont, 'Segoe UI', Helvetica, Arial, sans-serif, 'Apple Color Emoji', 'Segoe UI Emoji', 'Segoe UI Symbol'; padding: 4rem 2rem; direction: ltr\">\n",
       "<figure style=\"margin-bottom: 6rem\">\n",
       "<svg xmlns=\"http://www.w3.org/2000/svg\" xmlns:xlink=\"http://www.w3.org/1999/xlink\" xml:lang=\"en\" id=\"ebf56c5c8fb740369255c982284f3bca-0\" class=\"displacy\" width=\"250\" height=\"187.0\" direction=\"ltr\" style=\"max-width: none; height: 187.0px; color: yellow; background: #09a3d5; font-family: Times; direction: ltr\">\n",
       "<text class=\"displacy-token\" fill=\"currentColor\" text-anchor=\"middle\" y=\"97.0\">\n",
       "    <tspan class=\"displacy-word\" fill=\"currentColor\" x=\"50\">This</tspan>\n",
       "    <tspan class=\"displacy-tag\" dy=\"2em\" fill=\"currentColor\" x=\"50\">PRON</tspan>\n",
       "</text>\n",
       "\n",
       "<text class=\"displacy-token\" fill=\"currentColor\" text-anchor=\"middle\" y=\"97.0\">\n",
       "    <tspan class=\"displacy-word\" fill=\"currentColor\" x=\"100\">is</tspan>\n",
       "    <tspan class=\"displacy-tag\" dy=\"2em\" fill=\"currentColor\" x=\"100\">AUX</tspan>\n",
       "</text>\n",
       "\n",
       "<text class=\"displacy-token\" fill=\"currentColor\" text-anchor=\"middle\" y=\"97.0\">\n",
       "    <tspan class=\"displacy-word\" fill=\"currentColor\" x=\"150\">a</tspan>\n",
       "    <tspan class=\"displacy-tag\" dy=\"2em\" fill=\"currentColor\" x=\"150\">DET</tspan>\n",
       "</text>\n",
       "\n",
       "<text class=\"displacy-token\" fill=\"currentColor\" text-anchor=\"middle\" y=\"97.0\">\n",
       "    <tspan class=\"displacy-word\" fill=\"currentColor\" x=\"200\">sentence.</tspan>\n",
       "    <tspan class=\"displacy-tag\" dy=\"2em\" fill=\"currentColor\" x=\"200\">NOUN</tspan>\n",
       "</text>\n",
       "\n",
       "<g class=\"displacy-arrow\">\n",
       "    <path class=\"displacy-arc\" id=\"arrow-ebf56c5c8fb740369255c982284f3bca-0-0\" stroke-width=\"2px\" d=\"M62,52.0 62,43.666666666666664 97.0,43.666666666666664 97.0,52.0\" fill=\"none\" stroke=\"currentColor\"/>\n",
       "    <text dy=\"1.25em\" style=\"font-size: 0.8em; letter-spacing: 1px\">\n",
       "        <textPath xlink:href=\"#arrow-ebf56c5c8fb740369255c982284f3bca-0-0\" class=\"displacy-label\" startOffset=\"50%\" side=\"left\" fill=\"currentColor\" text-anchor=\"middle\">nsubj</textPath>\n",
       "    </text>\n",
       "    <path class=\"displacy-arrowhead\" d=\"M62,54.0 L58,46.0 66,46.0\" fill=\"currentColor\"/>\n",
       "</g>\n",
       "\n",
       "<g class=\"displacy-arrow\">\n",
       "    <path class=\"displacy-arc\" id=\"arrow-ebf56c5c8fb740369255c982284f3bca-0-1\" stroke-width=\"2px\" d=\"M162,52.0 162,43.666666666666664 197.0,43.666666666666664 197.0,52.0\" fill=\"none\" stroke=\"currentColor\"/>\n",
       "    <text dy=\"1.25em\" style=\"font-size: 0.8em; letter-spacing: 1px\">\n",
       "        <textPath xlink:href=\"#arrow-ebf56c5c8fb740369255c982284f3bca-0-1\" class=\"displacy-label\" startOffset=\"50%\" side=\"left\" fill=\"currentColor\" text-anchor=\"middle\">det</textPath>\n",
       "    </text>\n",
       "    <path class=\"displacy-arrowhead\" d=\"M162,54.0 L158,46.0 166,46.0\" fill=\"currentColor\"/>\n",
       "</g>\n",
       "\n",
       "<g class=\"displacy-arrow\">\n",
       "    <path class=\"displacy-arc\" id=\"arrow-ebf56c5c8fb740369255c982284f3bca-0-2\" stroke-width=\"2px\" d=\"M112,52.0 112,35.33333333333333 200.0,35.33333333333333 200.0,52.0\" fill=\"none\" stroke=\"currentColor\"/>\n",
       "    <text dy=\"1.25em\" style=\"font-size: 0.8em; letter-spacing: 1px\">\n",
       "        <textPath xlink:href=\"#arrow-ebf56c5c8fb740369255c982284f3bca-0-2\" class=\"displacy-label\" startOffset=\"50%\" side=\"left\" fill=\"currentColor\" text-anchor=\"middle\">attr</textPath>\n",
       "    </text>\n",
       "    <path class=\"displacy-arrowhead\" d=\"M200.0,54.0 L204.0,46.0 196.0,46.0\" fill=\"currentColor\"/>\n",
       "</g>\n",
       "</svg>\n",
       "</figure>\n",
       "\n",
       "<figure style=\"margin-bottom: 6rem\">\n",
       "<svg xmlns=\"http://www.w3.org/2000/svg\" xmlns:xlink=\"http://www.w3.org/1999/xlink\" xml:lang=\"en\" id=\"ebf56c5c8fb740369255c982284f3bca-1\" class=\"displacy\" width=\"350\" height=\"212.0\" direction=\"ltr\" style=\"max-width: none; height: 212.0px; color: yellow; background: #09a3d5; font-family: Times; direction: ltr\">\n",
       "<text class=\"displacy-token\" fill=\"currentColor\" text-anchor=\"middle\" y=\"122.0\">\n",
       "    <tspan class=\"displacy-word\" fill=\"currentColor\" x=\"50\">This</tspan>\n",
       "    <tspan class=\"displacy-tag\" dy=\"2em\" fill=\"currentColor\" x=\"50\">PRON</tspan>\n",
       "</text>\n",
       "\n",
       "<text class=\"displacy-token\" fill=\"currentColor\" text-anchor=\"middle\" y=\"122.0\">\n",
       "    <tspan class=\"displacy-word\" fill=\"currentColor\" x=\"100\">is</tspan>\n",
       "    <tspan class=\"displacy-tag\" dy=\"2em\" fill=\"currentColor\" x=\"100\">AUX</tspan>\n",
       "</text>\n",
       "\n",
       "<text class=\"displacy-token\" fill=\"currentColor\" text-anchor=\"middle\" y=\"122.0\">\n",
       "    <tspan class=\"displacy-word\" fill=\"currentColor\" x=\"150\">a</tspan>\n",
       "    <tspan class=\"displacy-tag\" dy=\"2em\" fill=\"currentColor\" x=\"150\">DET</tspan>\n",
       "</text>\n",
       "\n",
       "<text class=\"displacy-token\" fill=\"currentColor\" text-anchor=\"middle\" y=\"122.0\">\n",
       "    <tspan class=\"displacy-word\" fill=\"currentColor\" x=\"200\">second</tspan>\n",
       "    <tspan class=\"displacy-tag\" dy=\"2em\" fill=\"currentColor\" x=\"200\">ADV</tspan>\n",
       "</text>\n",
       "\n",
       "<text class=\"displacy-token\" fill=\"currentColor\" text-anchor=\"middle\" y=\"122.0\">\n",
       "    <tspan class=\"displacy-word\" fill=\"currentColor\" x=\"250\">longer</tspan>\n",
       "    <tspan class=\"displacy-tag\" dy=\"2em\" fill=\"currentColor\" x=\"250\">ADJ</tspan>\n",
       "</text>\n",
       "\n",
       "<text class=\"displacy-token\" fill=\"currentColor\" text-anchor=\"middle\" y=\"122.0\">\n",
       "    <tspan class=\"displacy-word\" fill=\"currentColor\" x=\"300\">sentence.</tspan>\n",
       "    <tspan class=\"displacy-tag\" dy=\"2em\" fill=\"currentColor\" x=\"300\">NOUN</tspan>\n",
       "</text>\n",
       "\n",
       "<g class=\"displacy-arrow\">\n",
       "    <path class=\"displacy-arc\" id=\"arrow-ebf56c5c8fb740369255c982284f3bca-1-0\" stroke-width=\"2px\" d=\"M62,77.0 62,68.66666666666667 94.0,68.66666666666667 94.0,77.0\" fill=\"none\" stroke=\"currentColor\"/>\n",
       "    <text dy=\"1.25em\" style=\"font-size: 0.8em; letter-spacing: 1px\">\n",
       "        <textPath xlink:href=\"#arrow-ebf56c5c8fb740369255c982284f3bca-1-0\" class=\"displacy-label\" startOffset=\"50%\" side=\"left\" fill=\"currentColor\" text-anchor=\"middle\">nsubj</textPath>\n",
       "    </text>\n",
       "    <path class=\"displacy-arrowhead\" d=\"M62,79.0 L58,71.0 66,71.0\" fill=\"currentColor\"/>\n",
       "</g>\n",
       "\n",
       "<g class=\"displacy-arrow\">\n",
       "    <path class=\"displacy-arc\" id=\"arrow-ebf56c5c8fb740369255c982284f3bca-1-1\" stroke-width=\"2px\" d=\"M162,77.0 162,60.33333333333333 297.0,60.33333333333333 297.0,77.0\" fill=\"none\" stroke=\"currentColor\"/>\n",
       "    <text dy=\"1.25em\" style=\"font-size: 0.8em; letter-spacing: 1px\">\n",
       "        <textPath xlink:href=\"#arrow-ebf56c5c8fb740369255c982284f3bca-1-1\" class=\"displacy-label\" startOffset=\"50%\" side=\"left\" fill=\"currentColor\" text-anchor=\"middle\">det</textPath>\n",
       "    </text>\n",
       "    <path class=\"displacy-arrowhead\" d=\"M162,79.0 L158,71.0 166,71.0\" fill=\"currentColor\"/>\n",
       "</g>\n",
       "\n",
       "<g class=\"displacy-arrow\">\n",
       "    <path class=\"displacy-arc\" id=\"arrow-ebf56c5c8fb740369255c982284f3bca-1-2\" stroke-width=\"2px\" d=\"M212,77.0 212,68.66666666666667 244.0,68.66666666666667 244.0,77.0\" fill=\"none\" stroke=\"currentColor\"/>\n",
       "    <text dy=\"1.25em\" style=\"font-size: 0.8em; letter-spacing: 1px\">\n",
       "        <textPath xlink:href=\"#arrow-ebf56c5c8fb740369255c982284f3bca-1-2\" class=\"displacy-label\" startOffset=\"50%\" side=\"left\" fill=\"currentColor\" text-anchor=\"middle\">advmod</textPath>\n",
       "    </text>\n",
       "    <path class=\"displacy-arrowhead\" d=\"M212,79.0 L208,71.0 216,71.0\" fill=\"currentColor\"/>\n",
       "</g>\n",
       "\n",
       "<g class=\"displacy-arrow\">\n",
       "    <path class=\"displacy-arc\" id=\"arrow-ebf56c5c8fb740369255c982284f3bca-1-3\" stroke-width=\"2px\" d=\"M262,77.0 262,68.66666666666667 294.0,68.66666666666667 294.0,77.0\" fill=\"none\" stroke=\"currentColor\"/>\n",
       "    <text dy=\"1.25em\" style=\"font-size: 0.8em; letter-spacing: 1px\">\n",
       "        <textPath xlink:href=\"#arrow-ebf56c5c8fb740369255c982284f3bca-1-3\" class=\"displacy-label\" startOffset=\"50%\" side=\"left\" fill=\"currentColor\" text-anchor=\"middle\">amod</textPath>\n",
       "    </text>\n",
       "    <path class=\"displacy-arrowhead\" d=\"M262,79.0 L258,71.0 266,71.0\" fill=\"currentColor\"/>\n",
       "</g>\n",
       "\n",
       "<g class=\"displacy-arrow\">\n",
       "    <path class=\"displacy-arc\" id=\"arrow-ebf56c5c8fb740369255c982284f3bca-1-4\" stroke-width=\"2px\" d=\"M112,77.0 112,52.0 300.0,52.0 300.0,77.0\" fill=\"none\" stroke=\"currentColor\"/>\n",
       "    <text dy=\"1.25em\" style=\"font-size: 0.8em; letter-spacing: 1px\">\n",
       "        <textPath xlink:href=\"#arrow-ebf56c5c8fb740369255c982284f3bca-1-4\" class=\"displacy-label\" startOffset=\"50%\" side=\"left\" fill=\"currentColor\" text-anchor=\"middle\">attr</textPath>\n",
       "    </text>\n",
       "    <path class=\"displacy-arrowhead\" d=\"M300.0,79.0 L304.0,71.0 296.0,71.0\" fill=\"currentColor\"/>\n",
       "</g>\n",
       "</svg>\n",
       "</figure>\n",
       "</body>\n",
       "</html></span>"
      ],
      "text/plain": [
       "<IPython.core.display.HTML object>"
      ]
     },
     "metadata": {},
     "output_type": "display_data"
    },
    {
     "name": "stdout",
     "output_type": "stream",
     "text": [
      "\n",
      "Using the 'dep' visualizer\n",
      "Serving on http://0.0.0.0:5000 ...\n",
      "\n"
     ]
    },
    {
     "name": "stderr",
     "output_type": "stream",
     "text": [
      "127.0.0.1 - - [03/Aug/2023 13:29:09] \"GET / HTTP/1.1\" 200 8248\n"
     ]
    }
   ],
   "source": [
    "#uses displacy serve to display in a new tab\n",
    "doc3=nlp(u\"This is a sentence. This is a second longer sentence.\")\n",
    "spans=list(doc3.sents)\n",
    "displacy.serve(spans,style='dep',options=options)"
   ]
  },
  {
   "cell_type": "code",
   "execution_count": null,
   "id": "7f5faf1a",
   "metadata": {},
   "outputs": [],
   "source": []
  }
 ],
 "metadata": {
  "kernelspec": {
   "display_name": "Python 3 (ipykernel)",
   "language": "python",
   "name": "python3"
  },
  "language_info": {
   "codemirror_mode": {
    "name": "ipython",
    "version": 3
   },
   "file_extension": ".py",
   "mimetype": "text/x-python",
   "name": "python",
   "nbconvert_exporter": "python",
   "pygments_lexer": "ipython3",
   "version": "3.7.16"
  }
 },
 "nbformat": 4,
 "nbformat_minor": 5
}
