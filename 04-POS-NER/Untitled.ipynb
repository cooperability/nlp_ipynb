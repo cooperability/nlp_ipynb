{
 "cells": [
  {
   "cell_type": "code",
   "execution_count": 2,
   "id": "9893d6b5",
   "metadata": {},
   "outputs": [
    {
     "name": "stdout",
     "output_type": "stream",
     "text": [
      "/Users/cooperreed/anaconda3/envs/nlp_ipynb/bin/python\n"
     ]
    }
   ],
   "source": [
    "#most words are rare, and it's common for different words to mean the same thing & vice versa\n",
    "#identical words mean something different in a different order; need linguistic context knowledge\n",
    "#that's what spacy does: input raw text, output Doc with variety of annotations\n",
    "#coarse-grained POS tags: \n",
    "#fine-grained POS tags:\n",
    "import spacy \n",
    "nlp = spacy.load('en_core_web_sm')\n",
    "import sys\n",
    "print(sys.executable)\n"
   ]
  },
  {
   "cell_type": "code",
   "execution_count": 9,
   "id": "2d595469",
   "metadata": {},
   "outputs": [
    {
     "name": "stdout",
     "output_type": "stream",
     "text": [
      "Sphinx     PROPN      NNP        noun, proper singular\n",
      "of         ADP        IN         conjunction, subordinating or preposition\n",
      "black      ADJ        JJ         adjective (English), other noun-modifier (Chinese)\n",
      "quartz     NOUN       NN         noun, singular or mass\n",
      ",          PUNCT      ,          punctuation mark, comma\n",
      "judge      VERB       VBP        verb, non-3rd person singular present\n",
      "my         PRON       PRP$       pronoun, possessive\n",
      "vow        NOUN       NN         noun, singular or mass\n",
      ".          PUNCT      .          punctuation mark, sentence closer\n"
     ]
    }
   ],
   "source": [
    "#.pos_ is the coarse-grained POS tag, crudely sorting for adj, verb, preposition, noun, etc\n",
    "#.tag_ is the fine-grained POS tag, explained using spacy below!\n",
    "doc = nlp(u\"Sphinx of black quartz, judge my vow.\")\n",
    "for token in doc:\n",
    "    print(f\"{token.text:{10}} {token.pos_:{10}} {token.tag_:{10}} {spacy.explain(token.tag_)}\")"
   ]
  },
  {
   "cell_type": "code",
   "execution_count": 12,
   "id": "5bcc342d",
   "metadata": {},
   "outputs": [
    {
     "name": "stdout",
     "output_type": "stream",
     "text": [
      "first doc: read       VERB       VBP        verb, non-3rd person singular present\n",
      "first doc: read       VERB       VBD        verb, past tense\n"
     ]
    }
   ],
   "source": [
    "#spacy infers POS and tag from all context available, illustrated here by past/present separation\n",
    "doc1 = nlp(u\"I read books.\")\n",
    "token = doc1[1]\n",
    "print(f\"first doc: {token.text:{10}} {token.pos_:{10}} {token.tag_:{10}} {spacy.explain(token.tag_)}\")\n",
    "doc2 = nlp(u\"I read a book.\")\n",
    "token = doc2[1]\n",
    "print(f\"second doc: {token.text:{10}} {token.pos_:{10}} {token.tag_:{10}} {spacy.explain(token.tag_)}\")\n"
   ]
  },
  {
   "cell_type": "code",
   "execution_count": 16,
   "id": "86553030",
   "metadata": {},
   "outputs": [
    {
     "name": "stdout",
     "output_type": "stream",
     "text": [
      "{96: 1, 85: 1, 84: 1, 92: 2, 97: 2, 100: 1, 95: 1}\n",
      "PROPN\n",
      "84. ADJ   1\n",
      "85. ADP   1\n",
      "92. NOUN  2\n",
      "95. PRON  1\n",
      "96. PROPN 1\n",
      "97. PUNCT 2\n",
      "100. VERB  1\n"
     ]
    }
   ],
   "source": [
    "#count pos tags; \n",
    "doc = nlp(u\"Sphinx of black quartz, judge my vow.\")\n",
    "POS_counts = doc.count_by(spacy.attrs.POS)\n",
    "print(POS_counts) # shows part of speech code\n",
    "print(doc.vocab[96].text)\n",
    "for k, v in sorted(POS_counts.items()):\n",
    "    print(f\"{k}. {doc.vocab[k].text:{5}} {v}\")"
   ]
  },
  {
   "cell_type": "code",
   "execution_count": 20,
   "id": "0f8e6482",
   "metadata": {},
   "outputs": [
    {
     "name": "stdout",
     "output_type": "stream",
     "text": [
      "1292078113972184607. IN    1\n",
      "2593208677638477497. ,     1\n",
      "4062917326063685704. PRP$  1\n",
      "9188597074677201817. VBP   1\n",
      "10554686591937588953. JJ    1\n",
      "12646065887601541794. .     1\n",
      "15308085513773655218. NN    2\n",
      "15794550382381185553. NNP   1\n",
      "402. amod  1\n",
      "416. dobj  1\n",
      "429. nsubj 1\n",
      "439. pobj  1\n",
      "440. poss  1\n",
      "443. prep  1\n",
      "445. punct 2\n",
      "8206900633647566924. ROOT  1\n"
     ]
    }
   ],
   "source": [
    "\n",
    "TAG_counts = doc.count_by(spacy.attrs.TAG)\n",
    "for k, v in sorted(TAG_counts.items()):\n",
    "    print(f\"{k}. {doc.vocab[k].text:{5}} {v}\")\n",
    "DEP_counts = doc.count_by(spacy.attrs.DEP)   #syntactic dependency tags\n",
    "for k, v in sorted(DEP_counts.items()):      \n",
    "    print(f\"{k}. {doc.vocab[k].text:{5}} {v}\")"
   ]
  },
  {
   "cell_type": "code",
   "execution_count": 21,
   "id": "055171ec",
   "metadata": {},
   "outputs": [
    {
     "data": {
      "text/plain": [
       "796"
      ]
     },
     "execution_count": 21,
     "metadata": {},
     "output_type": "execute_result"
    }
   ],
   "source": [
    "len(doc.vocab)\n"
   ]
  },
  {
   "cell_type": "code",
   "execution_count": null,
   "id": "fba36b8c",
   "metadata": {},
   "outputs": [],
   "source": []
  }
 ],
 "metadata": {
  "kernelspec": {
   "display_name": "Python 3 (ipykernel)",
   "language": "python",
   "name": "python3"
  },
  "language_info": {
   "codemirror_mode": {
    "name": "ipython",
    "version": 3
   },
   "file_extension": ".py",
   "mimetype": "text/x-python",
   "name": "python",
   "nbconvert_exporter": "python",
   "pygments_lexer": "ipython3",
   "version": "3.7.16"
  }
 },
 "nbformat": 4,
 "nbformat_minor": 5
}
