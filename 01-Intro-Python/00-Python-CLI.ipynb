{
 "cells": [
  {
   "cell_type": "code",
   "execution_count": null,
   "metadata": {
    "vscode": {
     "languageId": "plaintext"
    }
   },
   "outputs": [],
   "source": [
    "#Python:\n",
    "#activate python using python; quit with quit()\n",
    "#can check paths with import sys and then print(sys.path)\n",
    "#Set Version: python global <version> i.e. \"python global 3.8.11\"; can be replaced for local\n",
    "#Create Virtual Environment: $ pyenv virtualenv <python_version> <environment_name>\n",
    "#pyenv which python; pyenv which pip; pyenv versions\n",
    "#pyenv activate <environment_name>; pyenv deactivate\n",
    "#python example.py - runs executable py\n",
    "#which python"
   ]
  },
  {
   "cell_type": "code",
   "execution_count": null,
   "metadata": {
    "vscode": {
     "languageId": "plaintext"
    }
   },
   "outputs": [],
   "source": [
    "#Poetry\n",
    "#\"poetry init\" creates a pyproject.toml file with a poetry section, or tells you if one already exists\n",
    "#\"poetry install\" creates your virtual environment and installs dependencies in it from the lockfile\n",
    "#\"poetry env info\" will show you the current environment you're working in\n",
    "#\"poetry env info -p\" shows the path to your current environment\n",
    "#\"poetry env list\" shows all active environments\n",
    "#\"poetry env remove --all\" does what it says\n",
    "#\"poetry add [packegename]\" or \"poetry remove [packagename]\" does what it says on the tin\n",
    "#\"poetry shell\" opens a specified poetry shell for your current environment\n",
    "#to exit type \"exit\"\n",
    "#\"poetry config virtualenvs.in-project true\" sets a default that your created virtual environments will be created INSIDE the project folders where the pyproject.toml file is stored\n",
    "#after this stage, \"poetry install\" should run virtual env creation in your folder itself\n",
    "#$ poetry export -f requirements.txt -o requirements.txt --without-hashes"
   ]
  },
  {
   "cell_type": "markdown",
   "metadata": {},
   "source": [
    "#PIP\n",
    "#Add package: python -m pip install scipy\n",
    "#Upgrade Package: pip install --upgrade torch torchvision\n",
    "#List packages: pip list, pip freeze\n",
    "#Show package location: pip show <package-name>\n",
    "#pip freeze > requirements.txt will create the requirements.txt file from your django folder\n",
    "#Conda\n",
    "#Use the base environ through conda and build other environments on top\n",
    "#conda list shows installed packages"
   ]
  },
  {
   "cell_type": "markdown",
   "metadata": {},
   "source": [
    "#ScraPy Terminal Commands\n",
    "#scrapy startproject [projectname]\n",
    "#scrapy genspider [spidername] [domainToScrape]\n",
    "#scrapy list to show all spiders\n",
    "#scrapy shell “root-domain.url”\n",
    "#scrapy crawl [spidername] [-O for output, then filename.type] will run the desired spider in its .py file\n",
    "#fetch(’<url>’)\n",
    "#targetVar = response.css(’pageComponentClassName’); → retrieve all items of the specified class name\n",
    "#“” = response.xpath(“//component[@class=‘className’]/text()”).extract()\n",
    "#“”=response.css(“a”).xpath(“@href”).extract()\n",
    "#targetVar = response.css(’””’).get() → return only first item in set’s HTML\n",
    "#product.css(’a.product-item-meta__title::text’).get()\n",
    "#product.css(’span.price’).get().replace(’<div>unwanted html</div>’ , ’’).replace(’<div>unwanted html</div>’ , ’’) → remove dirty html from result\n",
    "#product.css(’div.product-item-meta a’).attrib[’href’] → retrieve only single attribute value from desired object\n",
    "#response.css(’[rel=”next”] ::attr(href)’).get() → fetch only the href attribute from only elements with the rel=”next” tag"
   ]
  }
 ],
 "metadata": {
  "language_info": {
   "name": "python"
  }
 },
 "nbformat": 4,
 "nbformat_minor": 2
}
