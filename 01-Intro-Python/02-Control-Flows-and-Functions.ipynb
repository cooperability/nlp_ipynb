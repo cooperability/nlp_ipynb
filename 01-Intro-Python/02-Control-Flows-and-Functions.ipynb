{
 "cells": [
  {
   "cell_type": "code",
   "execution_count": 7,
   "id": "cb135dac",
   "metadata": {},
   "outputs": [
    {
     "name": "stdout",
     "output_type": "stream",
     "text": [
      "w\n",
      "h\n",
      "e\n",
      "r\n",
      "e\n",
      "'\n",
      "s\n",
      " \n",
      "t\n",
      "h\n",
      "e\n",
      " \n",
      "b\n",
      "e\n",
      "e\n",
      "f\n",
      "?\n",
      "0 w\n",
      "1 h\n",
      "2 e\n",
      "3 r\n",
      "4 e\n",
      "5 '\n",
      "6 s\n",
      "7  \n",
      "8 t\n",
      "9 h\n",
      "10 e\n",
      "11  \n",
      "12 b\n",
      "13 e\n",
      "14 e\n",
      "15 f\n",
      "16 ?\n",
      "0\n",
      "1\n",
      "2\n",
      "3\n",
      "2\n",
      "0\n",
      "-2\n"
     ]
    }
   ],
   "source": [
    "#for-each loops for strings & arrays\n",
    "s=\"where's the beef?\"\n",
    "for char in s:\n",
    "    print(char)\n",
    "for i, char in enumerate(s): #add line numbers in output\n",
    "    print(i, char)\n",
    "for i in range(4): #alternate: for(int i=0; i<4; i++)\n",
    "    print(i)\n",
    "for i in range(2, -3, -2): #alternate: for(int i=2; i> -3; i-=2)\n",
    "    print(i)"
   ]
  },
  {
   "cell_type": "code",
   "execution_count": 23,
   "id": "a64ae4b9",
   "metadata": {},
   "outputs": [
    {
     "name": "stdout",
     "output_type": "stream",
     "text": [
      "0\n",
      "1 is odd\n",
      "2\n",
      "3 is odd\n"
     ]
    }
   ],
   "source": [
    "#while loops, bonus elif if-else structure\n",
    "ind=0\n",
    "while ind<5:\n",
    "    if(ind % 2==1):\n",
    "        print(f\"{ind} is odd\")\n",
    "    elif(ind > 3): \n",
    "        break\n",
    "    else:\n",
    "        print(ind)\n",
    "    ind += 1"
   ]
  },
  {
   "cell_type": "code",
   "execution_count": 26,
   "id": "809dceab",
   "metadata": {},
   "outputs": [
    {
     "name": "stdout",
     "output_type": "stream",
     "text": [
      "it don't exist\n",
      "it's None\n"
     ]
    }
   ],
   "source": [
    "#none-checking\n",
    "a=None\n",
    "b=[]\n",
    "c=''\n",
    "if a or b or c:\n",
    "    print(\"it exists\")\n",
    "else:\n",
    "    print(\"it don't exist\")\n",
    "    \n",
    "if a is None:\n",
    "    print(\"it's None\")\n",
    "    "
   ]
  },
  {
   "cell_type": "code",
   "execution_count": 32,
   "id": "b08630cf",
   "metadata": {},
   "outputs": [
    {
     "name": "stdout",
     "output_type": "stream",
     "text": [
      "True\n",
      "False\n",
      "15\n",
      "10\n",
      "15\n"
     ]
    }
   ],
   "source": [
    "#define functions\n",
    "def func(a,b): #junk function\n",
    "    pass #quiets errors\n",
    "func(5,10)\n",
    "\n",
    "def check_range(a, min_val=0, max_val=10): #is a in the given range?\n",
    "    print(min_val<a<max_val)\n",
    "check_range(5, 4, 6)\n",
    "check_range(5, max_val=3) #optional parameters can be omitted\n",
    "\n"
   ]
  },
  {
   "cell_type": "code",
   "execution_count": 19,
   "id": "e9330239",
   "metadata": {},
   "outputs": [
    {
     "name": "stdout",
     "output_type": "stream",
     "text": [
      "pass immutables by value:\n",
      "15\n",
      "10\n",
      "15\n",
      "\n",
      "Pass mutables by reference:\n",
      "[0, 1, 2, 3, 4]\n",
      "[10, 1, 2, 3, 4]\n",
      "[10, 1, 2, 3, 4]\n"
     ]
    }
   ],
   "source": [
    "#parameters of immutable type are passed by value.\n",
    "print(\"pass immutables by value:\")\n",
    "def func(var):\n",
    "    var=10\n",
    "    print(var)\n",
    "a=15\n",
    "print(a)\n",
    "func(a)\n",
    "print(a)\n",
    "\n",
    "#parameters of mutable types are passed by reference.\n",
    "print(\"\\nPass mutables by reference:\")\n",
    "def f(v):\n",
    "    v[0]=10\n",
    "    print(v)\n",
    "a=[0,1,2,3,4]\n",
    "print(a)\n",
    "f(a)\n",
    "print(a)"
   ]
  },
  {
   "cell_type": "code",
   "execution_count": 4,
   "id": "ff98f41f",
   "metadata": {},
   "outputs": [
    {
     "name": "stdout",
     "output_type": "stream",
     "text": [
      "[0, 1, 2, 3, 4]\n",
      "[10, 1, 2, 3, 4]\n",
      "[0, 1, 2, 3, 4]\n"
     ]
    }
   ],
   "source": [
    "#circumvent mutability by creating a deep copy of your variable for your function\n",
    "def func(var):\n",
    "    var=var[:] #option 1\n",
    "    v=copy.deepcopy(var)\n",
    "    v[0]=10\n",
    "    print(v)\n",
    "a=[0,1,2,3,4]\n",
    "print(a)\n",
    "func(a)\n",
    "print(a)"
   ]
  },
  {
   "cell_type": "code",
   "execution_count": 12,
   "id": "e20dd95c",
   "metadata": {},
   "outputs": [
    {
     "name": "stdout",
     "output_type": "stream",
     "text": [
      "Function 1:\n",
      "This is an outside variable!\n",
      "This is an outside variable!\n",
      "\n",
      "function 2:\n",
      "This isn't scoped for the function\n",
      "Function changed the variable!\n",
      "\n",
      "function 4:\n",
      "This is global var!\n",
      "This is global var!\n",
      "\n",
      "function 4:\n",
      "outside var!\n",
      "func var\n",
      "outside var!\n"
     ]
    }
   ],
   "source": [
    "\"\"\"\n",
    "SCOPING VARIABLES\n",
    "\"\"\"\n",
    "#1. functions can access variables scoped to their parent's block\n",
    "print(\"Function 1:\")\n",
    "outside_var=\"This is an outside variable!\"\n",
    "def func():\n",
    "     print(outside_var)\n",
    "print(outside_var)\n",
    "func()"
   ]
  },
  {
   "cell_type": "code",
   "execution_count": 16,
   "id": "4cb53e3c",
   "metadata": {},
   "outputs": [
    {
     "name": "stdout",
     "output_type": "stream",
     "text": [
      "\n",
      "function 2:\n",
      "This isn't scoped for the function\n",
      "Function changed the variable!\n"
     ]
    }
   ],
   "source": [
    "#2. but functions can't change variables in their parent block's scope,\n",
    "#unless using the global key\n",
    "print(\"\\nfunction 2:\")\n",
    "outside_var2 = \"This isn't scoped for the function\"\n",
    "def func2():\n",
    "    global outside_var2\n",
    "    outside_var2=\"Function changed the variable!\"\n",
    "print(outside_var2)\n",
    "func2()\n",
    "print(outside_var2)"
   ]
  },
  {
   "cell_type": "code",
   "execution_count": 17,
   "id": "8527e854",
   "metadata": {},
   "outputs": [
    {
     "name": "stdout",
     "output_type": "stream",
     "text": [
      "\n",
      "function 4:\n",
      "This is global var!\n",
      "This is global var!\n"
     ]
    }
   ],
   "source": [
    "#3.variables defined in function scope can only be accessed outside using global key\n",
    "#this is bad form and officially recommended against:\n",
    "print(\"\\nfunction 4:\")\n",
    "def foo():\n",
    "     global g_v #if you printed after this line, undefined error\n",
    "     g_v=\"This is global var!\"\n",
    "     print(g_v)\n",
    "def bar():\n",
    "     print(g_v)\n",
    "foo() #This is global var!\n",
    "bar() #This is global var!"
   ]
  },
  {
   "cell_type": "code",
   "execution_count": 18,
   "id": "395361d6",
   "metadata": {},
   "outputs": [
    {
     "name": "stdout",
     "output_type": "stream",
     "text": [
      "\n",
      "function 4:\n",
      "outside var!\n",
      "func var\n",
      "outside var!\n"
     ]
    }
   ],
   "source": [
    "#if a same-name variable is function-scoped, the later definition overwrites the former \n",
    "#only in that scope\n",
    "print(\"\\nfunction 4:\")\n",
    "var=\"outside var!\"\n",
    "def func(var=\"func var\"):\n",
    "     print(var)\n",
    "print(var) #outside var!\n",
    "func()  #func var\n",
    "print(var) #outside var!"
   ]
  },
  {
   "cell_type": "code",
   "execution_count": 13,
   "id": "df681780",
   "metadata": {},
   "outputs": [
    {
     "name": "stdout",
     "output_type": "stream",
     "text": [
      "Function 1:\n",
      "2.0\n",
      "2\n"
     ]
    }
   ],
   "source": [
    "#1. Defining functions within functions:\n",
    "def main_function(a):\n",
    "     def helper_func(a):\n",
    "          return int(a)\n",
    "     print(a)\n",
    "     b=helper_func(a)\n",
    "     print(b)\n",
    "\n",
    "main_function(2.0)   \n",
    "#2.0\n",
    "#2"
   ]
  },
  {
   "cell_type": "code",
   "execution_count": 14,
   "id": "bcd9b452",
   "metadata": {},
   "outputs": [
    {
     "data": {
      "text/plain": [
       "1"
      ]
     },
     "execution_count": 14,
     "metadata": {},
     "output_type": "execute_result"
    }
   ],
   "source": [
    "#2. Functions taking functions as variables:\n",
    "def function_taker(a, func):\n",
    "    return func(a)\n",
    "\n",
    "function_taker(1.0, int)     #1\n"
   ]
  },
  {
   "cell_type": "code",
   "execution_count": 15,
   "id": "3b9ac259",
   "metadata": {},
   "outputs": [
    {
     "data": {
      "text/plain": [
       "6.0"
      ]
     },
     "execution_count": 15,
     "metadata": {},
     "output_type": "execute_result"
    }
   ],
   "source": [
    "#Separately define passed function:\n",
    "def parameter_function(x):\n",
    "     return x+5\n",
    "def function_taker(a, func):\n",
    "     return func(a)\n",
    "function_taker(1.0, parameter_function)  #6.0"
   ]
  },
  {
   "cell_type": "code",
   "execution_count": 20,
   "id": "3c800970",
   "metadata": {},
   "outputs": [
    {
     "data": {
      "text/plain": [
       "6.0"
      ]
     },
     "execution_count": 20,
     "metadata": {},
     "output_type": "execute_result"
    }
   ],
   "source": [
    "#Lambda functions:\n",
    "def function_taker(a, func):\n",
    "     return func(a)\n",
    "function_taker(1.0, lambda x: x + 5)  #6.0"
   ]
  },
  {
   "cell_type": "code",
   "execution_count": 22,
   "id": "69b864d0",
   "metadata": {},
   "outputs": [
    {
     "data": {
      "text/plain": [
       "11.0"
      ]
     },
     "execution_count": 22,
     "metadata": {},
     "output_type": "execute_result"
    }
   ],
   "source": [
    "#lambda functions can use variables in their parent's block scope:\n",
    "num_to_add = 10\n",
    "def function_taker(a, func):\n",
    "     return func(a)\n",
    "function_taker(1.0, lambda x: x + num_to_add)    #11"
   ]
  },
  {
   "cell_type": "code",
   "execution_count": 27,
   "id": "a6431e5a",
   "metadata": {},
   "outputs": [
    {
     "name": "stdout",
     "output_type": "stream",
     "text": [
      "8\n",
      "7\n",
      "6\n",
      "5\n",
      "4\n",
      "3\n",
      "2\n",
      "1\n",
      "Done!\n"
     ]
    }
   ],
   "source": [
    "#Recursive functions:\n",
    "def print_positive_numbers(num):\n",
    "     if num <= 0:\n",
    "          print(\"Done!\")\n",
    "     else:\n",
    "          print(num)\n",
    "          print_positive_numbers(num-1)\n",
    "print_positive_numbers(8)"
   ]
  },
  {
   "cell_type": "code",
   "execution_count": null,
   "id": "8f0c9338",
   "metadata": {},
   "outputs": [],
   "source": []
  }
 ],
 "metadata": {
  "kernelspec": {
   "display_name": "Python 3 (ipykernel)",
   "language": "python",
   "name": "python3"
  },
  "language_info": {
   "codemirror_mode": {
    "name": "ipython",
    "version": 3
   },
   "file_extension": ".py",
   "mimetype": "text/x-python",
   "name": "python",
   "nbconvert_exporter": "python",
   "pygments_lexer": "ipython3",
   "version": "3.7.16"
  }
 },
 "nbformat": 4,
 "nbformat_minor": 5
}
