{
 "cells": [
  {
   "cell_type": "code",
   "execution_count": 1,
   "id": "69fe8f60",
   "metadata": {},
   "outputs": [
    {
     "name": "stdout",
     "output_type": "stream",
     "text": [
      "hola mundo\n"
     ]
    }
   ],
   "source": [
    "#output and formatting\n",
    "#In python, lines in the same code block must have identical indentation\n",
    "\"\"\"\n",
    "Here's a block comment.\n",
    "\"\"\"\n",
    "print(\"hola mundo\")"
   ]
  },
  {
   "cell_type": "code",
   "execution_count": 15,
   "id": "601728cf",
   "metadata": {},
   "outputs": [
    {
     "name": "stdout",
     "output_type": "stream",
     "text": [
      "<class 'str'>,\n",
      " <class 'int'>,\n",
      " <class 'float'>,\n",
      " <class 'bool'>,\n",
      " <class 'tuple'>,\n",
      " <class 'list'>,\n",
      " <class 'NoneType'>\n"
     ]
    }
   ],
   "source": [
    "#variable types: string, int, float, bool, tuple, list, none\n",
    "s = \"hello\" #string; immutable; can use double or single quotes\n",
    "i = 10 #int; immutable\n",
    "f = 10.0 #float; immutable\n",
    "b = False #bool; immutable - must be capitalized\n",
    "t = (3,4) #tuple; immutable; any size collection\n",
    "l = [1,2,3] #list; mutable\n",
    "n = None #none replaces null - must be capitalized\n",
    "print(f\"{type(s)},\\n {type(i)},\\n {type(f)},\\n {type(b)},\\n {type(t)},\\n {type(l)},\\n {type(n)}\")"
   ]
  },
  {
   "cell_type": "code",
   "execution_count": 18,
   "id": "18bca01b",
   "metadata": {},
   "outputs": [
    {
     "name": "stdout",
     "output_type": "stream",
     "text": [
      "I'm feeling rough, I'm feeling raw, \n",
      " I'm in the prime of my life\n"
     ]
    }
   ],
   "source": [
    "#setting multiple variables at once\n",
    "a, b, c = \"I'm feeling rough,\", \"I'm feeling raw, \\n\", \"I'm in the prime of my life\"\n",
    "print(a, b, c)"
   ]
  },
  {
   "cell_type": "code",
   "execution_count": 3,
   "id": "7f82349f",
   "metadata": {},
   "outputs": [
    {
     "name": "stdout",
     "output_type": "stream",
     "text": [
      "int=10; i+4=14, i-3=7, i*5=50, i/2=5, i^2=100\n",
      "float=10.0; f/2.5=4.0, f^2.0=100.0, f//3=3.0\n",
      "f+1.0=11.0\n",
      "f^2.0=121.0\n",
      "not True=False, True and False=False, True or False=True\n",
      "var: True\n",
      "1==1.0:True, 1!=1.0:False, 1<=2:True, 1>=2:False\n"
     ]
    }
   ],
   "source": [
    "#Int/Float/Bool Operations\n",
    "\n",
    "i = 10 #int add, subtract, multiply, divide, exponentiate\n",
    "print(f\"int={i}; i+4={i+4}, i-3={i-3}, i*5={i*5}, i/2={i//2}, i^2={i**2}\")\n",
    "\n",
    "f = 10.0 #float\n",
    "print(f\"float={f}; f/2.5={f/2.5}, f^2.0={f**2.0}, f//3={f//3}\")\n",
    "#dividing a float by an integer is the same as dividing then casting, i.e. print(int(f/3))\n",
    "#can't increment or decrement with ++ or -- in python\n",
    "#single / for FLOAT division, double // for INTEGER division\n",
    "\n",
    "#compound operators update values in one line\n",
    "f+=1.0\n",
    "print(f\"f+1.0={f}\")\n",
    "f**=2.0\n",
    "print(f\"f^2.0={f}\")\n",
    "\n",
    "#compound bools have predictable truth-values\n",
    "print(f\"not True={not True}, True and False={True and False}, True or False={True or False}\")\n",
    "var = True or False\n",
    "print(f\"var: {var}\") #prints True\n",
    "\n",
    "#inequalities: value equality, inequality, greater than or equal, less than or equal\n",
    "#These things will evaluate to BOOL values, i.e. a <= b evaluates either true or false\n",
    "print(f\"1==1.0:{1==1.0}, 1!=1.0:{1!=1.0}, 1<=2:{1<=2}, 1>=2:{1>=2}\")"
   ]
  },
  {
   "cell_type": "code",
   "execution_count": 4,
   "id": "ae8a9690",
   "metadata": {},
   "outputs": [
    {
     "name": "stdout",
     "output_type": "stream",
     "text": [
      "1. a>=b:True \n",
      "length(c):27 \n",
      "c[11]=p \n",
      "c[1].lower()=i\n",
      "c[2:6]=m in\n",
      "\n",
      "\n",
      "2. a*4=2890289028902890 \n",
      "a+' '+c=2890 I'm in the prime of my life \n",
      "'life' in c=True \n",
      "c.index('life')=23\n",
      "False True True\n",
      "\n",
      "\n",
      "3.c.split('m')=[\"I'\", ' in the pri', 'e of ', 'y life'] \n",
      "c_split[1]= in the pri \n",
      "'m'.join(c_split)=I'm in the prime of my life\n",
      "sub_c= prime of my li \n",
      "sub_c_2split= rm fm i\n"
     ]
    }
   ],
   "source": [
    "#1. string Operations: comparison, length, element-index, upper/lower\n",
    "#Strings: immutable iterable, fixed size\n",
    "#use \"f-strings\" in the format f\"var={var}\" to dynamically load variables\n",
    "a, b, c = \"2890\", '2890', \"I'm in the prime of my life\"\n",
    "print(f\"1. a>=b:{a>=b} \\nlength(c):{len(c)} \\nc[11]={c[11]} \\nc[1].lower()={c[0].lower()}\")\n",
    "print(f\"c[2:6]={c[2:6]}\")\n",
    "\n",
    "#2. multiply, concatenate, in(contains), index\n",
    "print(f\"\\n\\n2. a*4={a*4} \\na+' '+c={a+' '+c} \\n'life' in c={'life' in c} \\nc.index('life')={c.index('life')}\")\n",
    "      \n",
    "#3. split-by-delimiter, substring\n",
    "#default split() delimiter is space; will return an empty string between two adjacent delimiters\n",
    "#substring uses stringname[start:end:step] formatting, where step indicates skipped characters\n",
    "c_split=c.split('m')\n",
    "c_join='m'.join(c_split)\n",
    "sub_c=c[10:25:1]\n",
    "sub_c_2split=c[10:25:2]\n",
    "print(\"prime\" in a, \"prime\" not in b, \"prime\" in c) #False True True\n",
    "print(f\"\\n\\n3.c.split('m')={c_split} \\nc_split[1]={c_split[1]} \\n'm'.join(c_split)={c_join}\")\n",
    "print(f\"sub_c={sub_c} \\nsub_c_2split={sub_c_2split}\")\n"
   ]
  },
  {
   "cell_type": "code",
   "execution_count": 2,
   "id": "a1c4a0e9",
   "metadata": {},
   "outputs": [
    {
     "name": "stdout",
     "output_type": "stream",
     "text": [
      "1.0 5.0\n"
     ]
    }
   ],
   "source": [
    "\"\"\"\n",
    "Tuples in Python:\n",
    "immutable, hashable(can be used as dict key) lists of fixed size; no insertion or deletion\n",
    "\"\"\"\n",
    "atuple = (1,2,3,4,5)\n",
    "atuple = (1,)       #need comma for singleton atuple, otherwise defaults to integer\n",
    "\n",
    "#index/traverse same as list\n",
    "atuple=tuple([1,2,3])\n",
    "\n",
    "#use as dictionary keys\n",
    "ngram = (\"a\", \"cat\")\n",
    "d = dict()\n",
    "d[ngram] = 10\n",
    "d[ngram] += 1\n",
    "\n",
    "#named tuples improve readability\n",
    "from collections import namedtuple\n",
    "Point = namedtuple('Point', 'x y')\n",
    "pt1  = Point(1.0, 5.0)\n",
    "pt2 = Point(2.5, 1.5)\n",
    "print(pt1.x, pt1.y)     #1.0 5.0"
   ]
  },
  {
   "cell_type": "code",
   "execution_count": 1,
   "id": "b29a11d9",
   "metadata": {},
   "outputs": [
    {
     "name": "stdout",
     "output_type": "stream",
     "text": [
      "0\n",
      "1\n",
      "[5, 2, 3, 4, 5]\n",
      "----------\n",
      "4\n",
      "[4, 5]\n",
      "[5, 2, 3]\n",
      "[3, 4]\n",
      "[]\n",
      "[2, 3, 4, 5, 'new item', 2, 3, 4]\n",
      "5\n",
      "found\n"
     ]
    }
   ],
   "source": [
    "\"\"\"\n",
    "Lists in Python:\n",
    "mutable, dynamic size, fixed type; can be nested\n",
    "\"\"\"\n",
    "alist=list() #linear, ordered, indexed\n",
    "#any iterable gives size with len(iterable)\n",
    "print(len(alist))     #0\n",
    "\n",
    "alist = [ ]    #initialize empty,, equivalent to list()\n",
    "alist = [1, 2, 3, 4, 5]     #initialized list\n",
    "\n",
    "#access & modify elements:\n",
    "print(alist[0])    #1\n",
    "alist[0] = 5     \n",
    "print(alist)     #[5, 2, 3, 4, 5]\n",
    "print(\"-\"*10)\n",
    "print(alist[-2])     #get last element at index len-1       #prints 4\n",
    "print(alist[3:])     #get elements starting from index 3, inclusive      #prints [4, 5]\n",
    "print(alist[:3])     #get elements stopping at index 3, exclusive     #prints [5, 2, 3]\n",
    "print(alist[2:4])     #get elements within index range [2, 4]            #prints [3, 4]\n",
    "print(alist[len(alist):])       #prints nothing, index out of range     #prints [ ]\n",
    "\n",
    "#reverse a list\n",
    "alist[::1] # returns [5, 4, 3, 2, 5]\n",
    "\n",
    "#list methods:\n",
    "alist.append(\"new item\")     #insert at end\n",
    "alist.insert(0, \"new item\")      #insert at index 0\n",
    "alist.extend([2, 3, 4])       #concatenate lists; equivalent to alise += [2, 3, 4]\n",
    "alist.index(\"new item\")     #search by content\n",
    "alist.remove(\"new item\")     #remove by content\n",
    "popped = alist.pop(0)     #remove by index\n",
    "print(alist)     #[2, 3, 4, 5, 'new item', 2, 3, 4]\n",
    "print(popped)      #5\n",
    "\n",
    "\n",
    "#if list contains element:\n",
    "if \"new item\" in alist:\n",
    "     print(\"found\")\n",
    "else:\n",
    "     print(\"not found\")\n",
    "#found\n"
   ]
  },
  {
   "cell_type": "code",
   "execution_count": 6,
   "id": "7d08d893",
   "metadata": {},
   "outputs": [
    {
     "name": "stdout",
     "output_type": "stream",
     "text": [
      "{'dog': 10, 'bird': 5, 'lion': 8}\n",
      "dict_keys(['dog', 'bird', 'lion'])\n",
      "dict_values([10, 5, 8])\n",
      "dict_items([('dog', 10), ('bird', 5), ('lion', 8)])\n",
      "8\n",
      "key not found\n",
      "dog 10\n",
      "bird 5\n",
      "lion 20\n",
      "tiger 1\n",
      "dog 10\n",
      "bird 5\n",
      "lion 20\n",
      "tiger 1\n",
      "5\n",
      "10\n",
      "feline\n",
      "unknown\n",
      "Counter({'t': 11, 'e': 1})\n",
      "Counter({'t': 4, 'e': 2, ' ': 2, 'o': 2, 'l': 1, 'r': 1, 's': 1, 'c': 1, 'u': 1, 'n': 1})\n",
      "1 Counter({'t': 15, 'e': 3, ' ': 2, 'o': 2, 'l': 1, 'r': 1, 's': 1, 'c': 1, 'u': 1, 'n': 1})\n",
      "2 Counter({'t': 7})\n",
      "3 Counter({'t': 11, 'e': 1})\n",
      "t 4\n",
      "e 2\n",
      "  2\n",
      "o 2\n",
      "l 1\n",
      "[1, 2, 3, 4]\n"
     ]
    }
   ],
   "source": [
    "\"\"\"\n",
    "Dictionaries in Python:\n",
    "store key-value pairs; not hashable; mutable/dynamic size; no duplicates allowed\n",
    "Hash-table implementation makes searching fast; stores (key, value) pairs\n",
    "\"\"\"\n",
    "\n",
    "adict = { }     #same as dict()\n",
    "adict = {'dog': 10, 'bird': 5, 'lion': 8}\n",
    "print(adict)     #{'dog': 10, 'bird': 5, 'lion': 8}\n",
    "\n",
    "print(adict.keys())     #dict_keys(['dog', 'bird', 'lion'])\n",
    "print(adict.values())     #dict_values([10, 5, 8])\n",
    "print(adict.items())     #dict_items([('dog', 10), ('bird', 5), ('lion', 8)])\n",
    "\n",
    "#access by key\n",
    "print(adict['lion'])     #8\n",
    "\n",
    "#check if key exists\n",
    "#adict['tiger']    #throws error\n",
    "if 'tiger' in adict:\n",
    "     print(adict[key])\n",
    "else:\n",
    "     print(\"key not found\")    # key not found\n",
    "\n",
    "#insert new keys\n",
    "adict['tiger'] = 1\n",
    "\n",
    "#modify existing\n",
    "adict['lion'] = 20\n",
    "\n",
    "#traverse dictionaries\n",
    "for key in adict:\n",
    "     print(key, adict[key])\n",
    "#dog 10\n",
    "#bird 5\n",
    "#lion 8\n",
    "#tiger 1\n",
    "\n",
    "#Traverse key-value pairs together\n",
    "for key, val in adict.items():\n",
    "     print(key, val) #same output as above lol\n",
    "\n",
    "#DefaultDict is a special dictionary returning a default value when a queried key doesn't have one to match.\n",
    "from collections import defaultdict\n",
    "adictr = defaultdict(int)\n",
    "adict['cat'] = 5\n",
    "print(adict['cat'])     #5\n",
    "print(adict['dog'])     #0\n",
    "\n",
    "#you can also pass a custom function:\n",
    "from collections import defaultdict\n",
    "adict = defaultdict(lambda: 'unknown')\n",
    "adict['cat'] = 'feline'\n",
    "print(adict['cat'])     #feline\n",
    "print(adict['dog'])     #unknown\n",
    "\n",
    "#counters are dicts with default value 0.\n",
    "from collections import Counter\n",
    "counter1 = Counter()\n",
    "counter1['t'] = 10\n",
    "counter1['t'] += 1\n",
    "counter1['e'] += 1\n",
    "print(counter1)     #Counter({'t' : 11, 'e' : 1})\n",
    "\n",
    "#initialize counters from other iterables:\n",
    "counter2 = Counter(\"letters to count\")\n",
    "print(counter2)     # long output but it logs all letters with corresponding counts\n",
    "\n",
    "#operations between counters\n",
    "print(\"1\", counter1 + counter2)     # prints 1, then sum of both letter counts together\n",
    "print(\"2\", counter1 - counter2)   #prints 2, then Counter({'t': 7}), the difference between the two sets\n",
    "print(\"3\", counter1 or counter2)  #or for union, and for intersection\n",
    "\n",
    "#last Counter Methods\n",
    "counter2.most_common(5)   #prints 5 most common values of that counter plus keys\n",
    "for k, v in counter2.most_common(5):\n",
    "     print(k, v)\n",
    "\n",
    "\n",
    "#Set is special dictionary without values & no repetitions; only stores keys\n",
    "aset = set()\n",
    "aset.add('a')\n",
    "alist = [1,2,3,3,3,4,3]\n",
    "alist = list(set(alist))\n",
    "print(alist)           #[1,2,3,4]"
   ]
  },
  {
   "cell_type": "code",
   "execution_count": null,
   "id": "c853b7f2",
   "metadata": {},
   "outputs": [],
   "source": [
    "\"\"\"\n",
    "Lists in Python:\n",
    "mutable, dynamic size, fixed type; can be nested\n",
    "\"\"\"\n",
    "alist = [ ]    #initialize empty,, equivalent to list()\n",
    "alist = [1, 2, 3, 4, 5]     #initialized list\n",
    "\n",
    "\n"
   ]
  }
 ],
 "metadata": {
  "kernelspec": {
   "display_name": "Python 3",
   "language": "python",
   "name": "python3"
  },
  "language_info": {
   "codemirror_mode": {
    "name": "ipython",
    "version": 3
   },
   "file_extension": ".py",
   "mimetype": "text/x-python",
   "name": "python",
   "nbconvert_exporter": "python",
   "pygments_lexer": "ipython3",
   "version": "3.12.1"
  }
 },
 "nbformat": 4,
 "nbformat_minor": 5
}
