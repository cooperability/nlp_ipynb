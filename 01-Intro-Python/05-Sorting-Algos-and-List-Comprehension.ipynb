{
 "cells": [
  {
   "cell_type": "code",
   "execution_count": 1,
   "id": "d2b49348",
   "metadata": {},
   "outputs": [
    {
     "name": "stdout",
     "output_type": "stream",
     "text": [
      "[0, 1, 1, 4, 5, 6, 7, 8, 9]\n",
      "[9, 8, 7, 6, 5, 4, 1, 1, 0]\n"
     ]
    }
   ],
   "source": [
    "#sort iterables\n",
    "a = [4,6,1,7,0,5,1,8,9]\n",
    "a = sorted(a)\n",
    "print(a)     #[0,1,1,4,5,6,7,8,9]\n",
    "a = sorted(a, reverse=True)\n",
    "print(a)      #[reverse of above lol]"
   ]
  },
  {
   "cell_type": "code",
   "execution_count": 2,
   "id": "a340cf09",
   "metadata": {},
   "outputs": [
    {
     "name": "stdout",
     "output_type": "stream",
     "text": [
      "[('bird', 2), ('cat', 1), ('dog', 3)]\n",
      "[('cat', 1), ('bird', 2), ('dog', 3)]\n"
     ]
    }
   ],
   "source": [
    "#sort iterables containing tuples\n",
    "a = [(\"cat\", 1), (\"dog\", 3), (\"bird\", 2)]\n",
    "a = sorted(a)\n",
    "print(a)     #[('bird', 2), ('cat', 1), ('dog', 3)]\n",
    "b = sorted(a, key=lambda item: item[1])   #sort by value instead of by key\n",
    "print(b)     #[('cat', 1), ('bird', 2), ('dog', 3)]"
   ]
  },
  {
   "cell_type": "code",
   "execution_count": 3,
   "id": "e9d4411a",
   "metadata": {},
   "outputs": [
    {
     "data": {
      "text/plain": [
       "[('cat', 1), ('bird', 2), ('dog', 3)]"
      ]
     },
     "execution_count": 3,
     "metadata": {},
     "output_type": "execute_result"
    }
   ],
   "source": [
    "#instead of lambda function, we can pass a function defined outside\n",
    "def sorting_key(item):\n",
    "     return item[1]\n",
    "sorted(a, key=sorting_key)     #returns #[('cat', 1), ('bird', 2), ('dog', 3)]"
   ]
  },
  {
   "cell_type": "code",
   "execution_count": 4,
   "id": "62564963",
   "metadata": {},
   "outputs": [
    {
     "name": "stdout",
     "output_type": "stream",
     "text": [
      "[('bird', 1), ('cat', 3)]\n"
     ]
    }
   ],
   "source": [
    "#can sort dictionaries same way\n",
    "adict = {'cat':3, 'bird':1}\n",
    "print(sorted(adict.items(), key=lambda x:x[1]))  #sort by value; outputs [('bird', 1), ('cat', 3)]"
   ]
  },
  {
   "cell_type": "code",
   "execution_count": 4,
   "id": "177a869f",
   "metadata": {},
   "outputs": [
    {
     "name": "stdout",
     "output_type": "stream",
     "text": [
      "[['nice day'], ['hello friend']]\n",
      "[]\n",
      "['LA', 'NOLA', 'SF']\n",
      "[0, 1, 2, 3, 4, 5, 6, 7, 8, 9]\n",
      "['NYC', 'LA', 'NOLA', 'SF']\n",
      "['hola', 'hola', 'hola', 'hola']\n",
      "['NYC', 'LA', 'Chicago', 'SF']\n"
     ]
    }
   ],
   "source": [
    "\n",
    "#List Comprehension - replace for loops; unique to python\n",
    "sent = [\"nice day\", \"HELLO FRIEND\"]\n",
    "sent1 = [s.lower().split(\"  \") for s in sent]\n",
    "print(sent1)     #[['nice', 'day'], ['hello', 'friend']]\n",
    "\n",
    "#List Comprehension enables you to create new lists without a for-loop iterator. \n",
    "\n",
    "cities = [\"NYC\", \"LA\", \"NOLA\", \"SF\"]\n",
    "newlist = [x for x in cities if \"a\" in x] #[\"LA\", \"NOLA\"]\n",
    "print(newlist)\n",
    "newlist = [x for x in cities if x != \"NYC\"] #[\"LA\", \"NOLA\", \"SF\"]\n",
    "print(newlist)\n",
    "newlist = [x for x in range(10)] # [0, 1, 2, 3, 4, 5, 6, 7, 8, 9]\n",
    "print(newlist)\n",
    "newlist = [x.upper() for x in cities] #[\"NYC\", \"LA\", \"NOLA\", \"SF\"]\n",
    "print(newlist)\n",
    "newlist = ['hola' for x in cities] #[\"hola\", \"hola\", \"hola\", \"hola\"]\n",
    "print(newlist)\n",
    "newlist = [x if x != \"NOLA\" else \"Chicago\" for x in cities] #replace \"NOLA\" with \"Chicago\" in output\n",
    "print(newlist)\n",
    "\n"
   ]
  },
  {
   "cell_type": "code",
   "execution_count": 8,
   "id": "d3f99906",
   "metadata": {},
   "outputs": [
    {
     "name": "stdout",
     "output_type": "stream",
     "text": [
      "[['hello friend']]\n"
     ]
    }
   ],
   "source": [
    "#LC with conditionality\n",
    "sent2 = [s.lower().split(\"  \") for s in sent if len(s) >8]\n",
    "print(sent2)     #[['hello', 'friend']]"
   ]
  },
  {
   "cell_type": "code",
   "execution_count": 9,
   "id": "4e9c5698",
   "metadata": {},
   "outputs": [
    {
     "name": "stdout",
     "output_type": "stream",
     "text": [
      "{'a': 0, 'b': 1, 'c': 2}\n"
     ]
    }
   ],
   "source": [
    "#create other iterables\n",
    "keys = ['a', 'b', 'c']\n",
    "dict1 = {k: i for i, k in enumerate(keys)}\n",
    "print(dict1)      #{'a': 0, 'b': 1, ''c': 2}"
   ]
  },
  {
   "cell_type": "code",
   "execution_count": 13,
   "id": "a4d3a9c8",
   "metadata": {},
   "outputs": [
    {
     "name": "stdout",
     "output_type": "stream",
     "text": [
      "<zip object at 0x7f892c772af0>\n",
      "[('a', 10), ('b', 5), ('c', 30)]\n",
      "a 10\n",
      "b 5\n",
      "c 30\n"
     ]
    }
   ],
   "source": [
    "#zip function takes two same-length lists and returns a zip object, which can then be relisted as a list of key-value pairs from those two lists\n",
    "keys=['a', 'b', 'c']\n",
    "values = [10, 5, 30]\n",
    "zipped = zip(keys, values)\n",
    "print(zipped)     #zip object\n",
    "print(list(zipped))     #pass to list to unzip\n",
    "\n",
    "for k, v in zip(keys, values):\n",
    "     print(k, v)\n",
    "\n",
    "#output:\n",
    "#<zip object at 0x7fa255783960>\n",
    "#[('a', 10), ('b', 5), ('c', 30)]\n",
    "#a 10\n",
    "#b 5\n",
    "#c 30"
   ]
  },
  {
   "cell_type": "code",
   "execution_count": null,
   "id": "ee0d7510",
   "metadata": {},
   "outputs": [],
   "source": []
  }
 ],
 "metadata": {
  "kernelspec": {
   "display_name": "Python 3",
   "language": "python",
   "name": "python3"
  },
  "language_info": {
   "codemirror_mode": {
    "name": "ipython",
    "version": 3
   },
   "file_extension": ".py",
   "mimetype": "text/x-python",
   "name": "python",
   "nbconvert_exporter": "python",
   "pygments_lexer": "ipython3",
   "version": "3.12.1"
  }
 },
 "nbformat": 4,
 "nbformat_minor": 5
}
