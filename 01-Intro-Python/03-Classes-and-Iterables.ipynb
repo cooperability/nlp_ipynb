{
 "cells": [
  {
   "cell_type": "code",
   "execution_count": 2,
   "id": "bff751b5",
   "metadata": {},
   "outputs": [
    {
     "name": "stdout",
     "output_type": "stream",
     "text": [
      "same\n",
      "6\n",
      "same\n",
      "5\n",
      "same\n",
      "changed\n",
      "changed\n",
      "changed\n"
     ]
    }
   ],
   "source": [
    "class Foo: #if \"class Foo(object): all python classes will inherit 'object'\n",
    "       class_variable = 'same'\n",
    "       def __init__(self, x):      #optional constructor; required for some classes\n",
    "            self.x = x     #first parameter \"self\" for instance reference, like \"this\" in java\n",
    "       def print_x(self): #instance reference is required for all instance variables\n",
    "            print(self.x)\n",
    "       @classmethod\n",
    "       def modify_class_variable(cls):\n",
    "            cls.class_variable = 'changed'\n",
    "       @staticmethod\n",
    "       def print_hello():\n",
    "            print(\"Hello!\")\n",
    "\n",
    "print(Foo.class_variable)  #same\n",
    "obj1=Foo(6)  \n",
    "obj1.print_x()    #6\n",
    "print(obj1.class_variable)     #same\n",
    "\n",
    "obj2 = Foo(5) \n",
    "obj2.print_x()     #5\n",
    "print(obj2.class_variable)     #same\n",
    "\n",
    "obj1.modify_class_variable()\n",
    "print(obj1.class_variable)     #changed\n",
    "print(obj2.class_variable)     #changed\n",
    "print(Foo.class_variable)      #changed"
   ]
  },
  {
   "cell_type": "code",
   "execution_count": 4,
   "id": "02cde418",
   "metadata": {},
   "outputs": [
    {
     "name": "stdout",
     "output_type": "stream",
     "text": [
      "3\n"
     ]
    }
   ],
   "source": [
    "#Classes can also be inherited:\n",
    "class Bar(Foo):     #inherits variables and methods from above class\n",
    "      pass\n",
    "\n",
    "obj = Bar(3)\n",
    "obj.print_x()     #3"
   ]
  },
  {
   "cell_type": "code",
   "execution_count": 5,
   "id": "54a374f5",
   "metadata": {},
   "outputs": [],
   "source": [
    "\"\"\"\n",
    "ITERABLES & LOOPS\n",
    "\"\"\"\n",
    "#immutable iterables, fixed size \n",
    "astring = str()\n",
    "atuple = tuple()\n",
    "\n",
    "#mutable iterables, not fixed size\n",
    "alist=list() #linear\n",
    "adict = dict()   #Hash table, stores (key, value) pairs\n",
    "aset = set()     #hash table, like dict but only stores keys\n",
    "\n",
    "#1. any iterable gives size with len(iterable)\n",
    "print(\"Output 1:\")\n",
    "print(len(alist))     #0\n",
    "\n",
    "alist = [ ]    #initialize empty,, equivalent to list()\n",
    "alist = [1, 2, 3, 4, 5]     #initialized list\n",
    "\n",
    "#2. access & modify elements of a data structure:\n",
    "print(\"Output 2:\")\n",
    "print(alist[0])    #1\n",
    "alist[0] = 5     \n",
    "print(alist)     #[5, 2, 3, 4, 5]\n",
    "print(\"-\"*10)\n",
    "print(alist[-2])     #get last element at index len-1       #prints 4\n",
    "print(alist[3:])     #get elements starting from index 3, inclusive      #prints [4, 5]\n",
    "print(alist[:3])     #get elements stopping at index 3, exclusive     #prints [5, 2, 3]\n",
    "print(alist[2:4])     #get elements within index range [2, 4]            #prints [3, 4]\n",
    "print(alist[len(alist):])       #prints nothing, index out of range     #prints [ ]\n",
    "\n",
    "#reverse a list\n",
    "alist[::1] # returns [5, 4, 3, 2, 5]\n",
    "\n",
    "#list methods:\n",
    "alist.append(\"new item\")     #insert at end\n",
    "alist.insert(0, \"new item\")      #insert at index 0\n",
    "alist.extend([2, 3, 4])       #concatenate lists; equivalent to alise += [2, 3, 4]\n",
    "alist.index(\"new item\")     #search by content\n",
    "alist.remove(\"new item\")     #remove by content\n",
    "popped = alist.pop(0)     #remove by index\n",
    "print(alist)     #[2, 3, 4, 5, 'new item', 2, 3, 4]\n",
    "print(popped)      #5\n",
    "\n",
    "\n",
    "#5. if list contains element:\n",
    "print(\"block 5:\")\n",
    "if \"new item\" in alist:\n",
    "     print(\"found\")\n",
    "else:\n",
    "     print(\"not found\")\n",
    "#found\n"
   ]
  },
  {
   "cell_type": "code",
   "execution_count": null,
   "id": "3bb1cca0",
   "metadata": {},
   "outputs": [],
   "source": []
  }
 ],
 "metadata": {
  "kernelspec": {
   "display_name": "Python 3 (ipykernel)",
   "language": "python",
   "name": "python3"
  },
  "language_info": {
   "codemirror_mode": {
    "name": "ipython",
    "version": 3
   },
   "file_extension": ".py",
   "mimetype": "text/x-python",
   "name": "python",
   "nbconvert_exporter": "python",
   "pygments_lexer": "ipython3",
   "version": "3.7.16"
  }
 },
 "nbformat": 4,
 "nbformat_minor": 5
}
